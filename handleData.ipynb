{
 "cells": [
  {
   "cell_type": "markdown",
   "id": "f07913f7",
   "metadata": {},
   "source": [
    "# Introduction\n",
    "- The basic dataset marketing of a shop coffee talks about the potential customers that were contacted via a marketing campaign and predict customers or not buy coffee.<br>\n",
    "# description dataset\n",
    "- ID: Unique customer ID.<br>\n",
    "- date_contacted: The date the potential customer was contacted.<br>\n",
    "- City: The city where the potential customer lives.<br>\n",
    "- State: The state where the potential customer lives<br>\n",
    "- Dob: The potential customer's date of birth.<br>\n",
    "- Gender: The potential customer's gender.<br>\n",
    "- employment: The potential customer's employment status.<br>\n",
    "- Owns_car: Wheter or not the potential customer owns a car.<br>\n",
    "- Owns_coffee_machine: Whether or not the potential customer owns a coffee machine.<br>\n",
    "- Owns_home: Whether or not the potential customer own a home.<br>"
   ]
  },
  {
   "cell_type": "code",
   "execution_count": 1,
   "id": "c4824144",
   "metadata": {},
   "outputs": [
    {
     "name": "stderr",
     "output_type": "stream",
     "text": [
      "[nltk_data] Downloading package wordnet to C:\\Users\\Tran Huu\n",
      "[nltk_data]     An\\AppData\\Roaming\\nltk_data...\n",
      "[nltk_data]   Package wordnet is already up-to-date!\n",
      "[nltk_data] Downloading package omw-1.4 to C:\\Users\\Tran Huu\n",
      "[nltk_data]     An\\AppData\\Roaming\\nltk_data...\n",
      "[nltk_data]   Package omw-1.4 is already up-to-date!\n"
     ]
    }
   ],
   "source": [
    "import pandas as pd\n",
    "import matplotlib.pyplot as plt\n",
    "import seaborn as sns\n",
    "import numpy as np\n",
    "import time\n",
    "import regex as re\n",
    "from textblob import TextBlob, Word\n",
    "import dataframe_image as dfi\n",
    "import nltk\n",
    "nltk.download('wordnet')\n",
    "nltk.download('omw-1.4')\n",
    "sns.set()"
   ]
  },
  {
   "cell_type": "markdown",
   "id": "06199c48",
   "metadata": {},
   "source": [
    "# Read file and overview"
   ]
  },
  {
   "cell_type": "code",
   "execution_count": 2,
   "id": "0a57498c",
   "metadata": {},
   "outputs": [],
   "source": [
    "df = pd.read_csv('C:\\\\Users\\\\Tran Huu An\\\\Desktop\\\\analyst_cafe\\\\base_datasetCsv\\\\base_dataset.csv')"
   ]
  },
  {
   "cell_type": "code",
   "execution_count": 1,
   "id": "d8980c7f",
   "metadata": {},
   "outputs": [
    {
     "ename": "NameError",
     "evalue": "name 'df' is not defined",
     "output_type": "error",
     "traceback": [
      "\u001b[1;31m---------------------------------------------------------------------------\u001b[0m",
      "\u001b[1;31mNameError\u001b[0m                                 Traceback (most recent call last)",
      "\u001b[1;32mc:\\Users\\Tran Huu An\\Desktop\\analyst_cafe\\Untitled.ipynb Cell 5\u001b[0m in \u001b[0;36m<cell line: 1>\u001b[1;34m()\u001b[0m\n\u001b[1;32m----> <a href='vscode-notebook-cell:/c%3A/Users/Tran%20Huu%20An/Desktop/analyst_cafe/Untitled.ipynb#W4sZmlsZQ%3D%3D?line=0'>1</a>\u001b[0m df\u001b[39m.\u001b[39mhead()\n",
      "\u001b[1;31mNameError\u001b[0m: name 'df' is not defined"
     ]
    }
   ],
   "source": [
    "df.head()"
   ]
  },
  {
   "cell_type": "code",
   "execution_count": 4,
   "id": "31a6162c",
   "metadata": {},
   "outputs": [],
   "source": [
    "x = df[['id', 'date_contacted', 'city', 'state', 'dob', 'gender', 'employment', 'owns_car', 'owns_coffee_machine', 'owns_home', 'beverage_preference', 'bought_coffee']].head(10)"
   ]
  },
  {
   "cell_type": "code",
   "execution_count": 6,
   "id": "f366bfc6",
   "metadata": {},
   "outputs": [],
   "source": [
    "dfi.export(x, 'dataframe.png')"
   ]
  },
  {
   "cell_type": "code",
   "execution_count": 7,
   "id": "06f310c4",
   "metadata": {},
   "outputs": [
    {
     "data": {
      "text/plain": [
       "array(['Chicago', 'Wheaton', 'Glen Ellyn', 'Hoffman Estates',\n",
       "       'St. Charles', 'Minooka', 'Inverness', 'Schaumburg', 'Algonquin',\n",
       "       'Warrenville', 'Batavia', 'Aurora', 'Streamwood', 'Oswego',\n",
       "       'Palatine', 'Romeoville', 'Elgin', 'Mokena', 'Plainfield',\n",
       "       'Carol Stream', 'Bolingbrook', 'Willowbrook', 'Barrington',\n",
       "       'West Chicago', 'Naperville', 'Deer Park', 'West Dundee'],\n",
       "      dtype=object)"
      ]
     },
     "execution_count": 7,
     "metadata": {},
     "output_type": "execute_result"
    }
   ],
   "source": [
    "df['city'].unique()"
   ]
  },
  {
   "cell_type": "code",
   "execution_count": 8,
   "id": "7a49e3df",
   "metadata": {},
   "outputs": [
    {
     "name": "stdout",
     "output_type": "stream",
     "text": [
      "<class 'pandas.core.frame.DataFrame'>\n",
      "RangeIndex: 28657 entries, 0 to 28656\n",
      "Data columns (total 14 columns):\n",
      " #   Column                               Non-Null Count  Dtype  \n",
      "---  ------                               --------------  -----  \n",
      " 0   id                                   28657 non-null  object \n",
      " 1   date_contacted                       28657 non-null  object \n",
      " 2   city                                 28657 non-null  object \n",
      " 3   state                                28657 non-null  object \n",
      " 4   dob                                  28657 non-null  object \n",
      " 5   gender                               28657 non-null  object \n",
      " 6   employment                           28657 non-null  object \n",
      " 7   owns_car                             28657 non-null  bool   \n",
      " 8   owns_coffee_machine                  28657 non-null  object \n",
      " 9   owns_home                            28657 non-null  bool   \n",
      " 10  beverage_preference                  28657 non-null  object \n",
      " 11  number_of_bags_purchased_competitor  28657 non-null  int64  \n",
      " 12  competitor_satisfaction              26486 non-null  float64\n",
      " 13  bought_coffee                        28657 non-null  bool   \n",
      "dtypes: bool(3), float64(1), int64(1), object(9)\n",
      "memory usage: 2.5+ MB\n"
     ]
    }
   ],
   "source": [
    "df.info()"
   ]
  },
  {
   "cell_type": "code",
   "execution_count": 9,
   "id": "eebf14a4",
   "metadata": {},
   "outputs": [],
   "source": [
    "# show infomaion data\n",
    "def infomationData(x):\n",
    "    listSummary = []\n",
    "    for i in x.columns:\n",
    "        row = x[i].shape[0]\n",
    "        missingVal = x[i].isna().sum()\n",
    "        unique = len(x[i].unique())\n",
    "        typeCol = str(x[i].dtype)\n",
    "        percentageMissingVal = x[i].isna().sum()/x.shape[0]*100\n",
    "        listSummary.append([i, row,typeCol,unique, missingVal, percentageMissingVal])\n",
    "    return pd.DataFrame(listSummary, columns = ['Name Columns', 'Total row', 'type col', 'Total unique', 'Total miss val', 'percentage missing value'])"
   ]
  },
  {
   "cell_type": "code",
   "execution_count": 10,
   "id": "bb0699d9",
   "metadata": {},
   "outputs": [],
   "source": [
    "dfi.export(infomationData(df), 'dataframeinfo.png')"
   ]
  },
  {
   "cell_type": "code",
   "execution_count": 11,
   "id": "e33d497d",
   "metadata": {},
   "outputs": [
    {
     "data": {
      "text/html": [
       "<div>\n",
       "<style scoped>\n",
       "    .dataframe tbody tr th:only-of-type {\n",
       "        vertical-align: middle;\n",
       "    }\n",
       "\n",
       "    .dataframe tbody tr th {\n",
       "        vertical-align: top;\n",
       "    }\n",
       "\n",
       "    .dataframe thead th {\n",
       "        text-align: right;\n",
       "    }\n",
       "</style>\n",
       "<table border=\"1\" class=\"dataframe\">\n",
       "  <thead>\n",
       "    <tr style=\"text-align: right;\">\n",
       "      <th></th>\n",
       "      <th>number_of_bags_purchased_competitor</th>\n",
       "      <th>competitor_satisfaction</th>\n",
       "    </tr>\n",
       "  </thead>\n",
       "  <tbody>\n",
       "    <tr>\n",
       "      <th>count</th>\n",
       "      <td>28657.000000</td>\n",
       "      <td>26486.00000</td>\n",
       "    </tr>\n",
       "    <tr>\n",
       "      <th>mean</th>\n",
       "      <td>6.017657</td>\n",
       "      <td>2.50051</td>\n",
       "    </tr>\n",
       "    <tr>\n",
       "      <th>std</th>\n",
       "      <td>3.722147</td>\n",
       "      <td>1.58113</td>\n",
       "    </tr>\n",
       "    <tr>\n",
       "      <th>min</th>\n",
       "      <td>0.000000</td>\n",
       "      <td>0.00000</td>\n",
       "    </tr>\n",
       "    <tr>\n",
       "      <th>25%</th>\n",
       "      <td>3.000000</td>\n",
       "      <td>1.00000</td>\n",
       "    </tr>\n",
       "    <tr>\n",
       "      <th>50%</th>\n",
       "      <td>6.000000</td>\n",
       "      <td>2.50000</td>\n",
       "    </tr>\n",
       "    <tr>\n",
       "      <th>75%</th>\n",
       "      <td>9.000000</td>\n",
       "      <td>4.00000</td>\n",
       "    </tr>\n",
       "    <tr>\n",
       "      <th>max</th>\n",
       "      <td>12.000000</td>\n",
       "      <td>5.00000</td>\n",
       "    </tr>\n",
       "  </tbody>\n",
       "</table>\n",
       "</div>"
      ],
      "text/plain": [
       "       number_of_bags_purchased_competitor  competitor_satisfaction\n",
       "count                         28657.000000              26486.00000\n",
       "mean                              6.017657                  2.50051\n",
       "std                               3.722147                  1.58113\n",
       "min                               0.000000                  0.00000\n",
       "25%                               3.000000                  1.00000\n",
       "50%                               6.000000                  2.50000\n",
       "75%                               9.000000                  4.00000\n",
       "max                              12.000000                  5.00000"
      ]
     },
     "execution_count": 11,
     "metadata": {},
     "output_type": "execute_result"
    }
   ],
   "source": [
    "df.describe()"
   ]
  },
  {
   "cell_type": "code",
   "execution_count": 12,
   "id": "73b37889",
   "metadata": {},
   "outputs": [
    {
     "data": {
      "text/html": [
       "<div>\n",
       "<style scoped>\n",
       "    .dataframe tbody tr th:only-of-type {\n",
       "        vertical-align: middle;\n",
       "    }\n",
       "\n",
       "    .dataframe tbody tr th {\n",
       "        vertical-align: top;\n",
       "    }\n",
       "\n",
       "    .dataframe thead th {\n",
       "        text-align: right;\n",
       "    }\n",
       "</style>\n",
       "<table border=\"1\" class=\"dataframe\">\n",
       "  <thead>\n",
       "    <tr style=\"text-align: right;\">\n",
       "      <th></th>\n",
       "      <th>id</th>\n",
       "      <th>date_contacted</th>\n",
       "      <th>city</th>\n",
       "      <th>state</th>\n",
       "      <th>dob</th>\n",
       "      <th>gender</th>\n",
       "      <th>employment</th>\n",
       "      <th>owns_car</th>\n",
       "      <th>owns_coffee_machine</th>\n",
       "      <th>owns_home</th>\n",
       "      <th>beverage_preference</th>\n",
       "      <th>number_of_bags_purchased_competitor</th>\n",
       "      <th>competitor_satisfaction</th>\n",
       "      <th>bought_coffee</th>\n",
       "    </tr>\n",
       "  </thead>\n",
       "  <tbody>\n",
       "    <tr>\n",
       "      <th>14</th>\n",
       "      <td>c9817d65d2cc149d</td>\n",
       "      <td>2019-01-29</td>\n",
       "      <td>Warrenville</td>\n",
       "      <td>IL</td>\n",
       "      <td>10/25/85</td>\n",
       "      <td>female</td>\n",
       "      <td>unemployed</td>\n",
       "      <td>True</td>\n",
       "      <td>yes</td>\n",
       "      <td>False</td>\n",
       "      <td>tea</td>\n",
       "      <td>6</td>\n",
       "      <td>2.0</td>\n",
       "      <td>False</td>\n",
       "    </tr>\n",
       "    <tr>\n",
       "      <th>20</th>\n",
       "      <td>1c38711a4a5bfb4e</td>\n",
       "      <td>2018-01-21</td>\n",
       "      <td>Schaumburg</td>\n",
       "      <td>IL</td>\n",
       "      <td>Dec 02 1983</td>\n",
       "      <td>female</td>\n",
       "      <td>full-time</td>\n",
       "      <td>True</td>\n",
       "      <td>yup</td>\n",
       "      <td>True</td>\n",
       "      <td>coffee</td>\n",
       "      <td>6</td>\n",
       "      <td>4.0</td>\n",
       "      <td>False</td>\n",
       "    </tr>\n",
       "    <tr>\n",
       "      <th>29</th>\n",
       "      <td>1ac708ae93be0ef5</td>\n",
       "      <td>2018-12-22</td>\n",
       "      <td>Hoffman Estates</td>\n",
       "      <td>IL</td>\n",
       "      <td>09-23-1971</td>\n",
       "      <td>male</td>\n",
       "      <td>full-time</td>\n",
       "      <td>True</td>\n",
       "      <td>YES</td>\n",
       "      <td>True</td>\n",
       "      <td>coffee</td>\n",
       "      <td>6</td>\n",
       "      <td>3.5</td>\n",
       "      <td>False</td>\n",
       "    </tr>\n",
       "    <tr>\n",
       "      <th>65</th>\n",
       "      <td>0fe490ef503cd150</td>\n",
       "      <td>2018-05-16</td>\n",
       "      <td>Mokena</td>\n",
       "      <td>IL</td>\n",
       "      <td>08-04-1970</td>\n",
       "      <td>female</td>\n",
       "      <td>full-time</td>\n",
       "      <td>True</td>\n",
       "      <td>yes</td>\n",
       "      <td>False</td>\n",
       "      <td>coffee</td>\n",
       "      <td>6</td>\n",
       "      <td>0.5</td>\n",
       "      <td>False</td>\n",
       "    </tr>\n",
       "    <tr>\n",
       "      <th>71</th>\n",
       "      <td>92d0d9e248866520</td>\n",
       "      <td>2019-06-24</td>\n",
       "      <td>Deer Park</td>\n",
       "      <td>IL</td>\n",
       "      <td>Feb 10 90</td>\n",
       "      <td>female</td>\n",
       "      <td>student</td>\n",
       "      <td>True</td>\n",
       "      <td>no</td>\n",
       "      <td>False</td>\n",
       "      <td>wine</td>\n",
       "      <td>6</td>\n",
       "      <td>0.5</td>\n",
       "      <td>False</td>\n",
       "    </tr>\n",
       "    <tr>\n",
       "      <th>...</th>\n",
       "      <td>...</td>\n",
       "      <td>...</td>\n",
       "      <td>...</td>\n",
       "      <td>...</td>\n",
       "      <td>...</td>\n",
       "      <td>...</td>\n",
       "      <td>...</td>\n",
       "      <td>...</td>\n",
       "      <td>...</td>\n",
       "      <td>...</td>\n",
       "      <td>...</td>\n",
       "      <td>...</td>\n",
       "      <td>...</td>\n",
       "      <td>...</td>\n",
       "    </tr>\n",
       "    <tr>\n",
       "      <th>28522</th>\n",
       "      <td>658eff3fd8d0482e</td>\n",
       "      <td>2018-07-07</td>\n",
       "      <td>West Chicago</td>\n",
       "      <td>IL</td>\n",
       "      <td>03-06-1978</td>\n",
       "      <td>male</td>\n",
       "      <td>full-time</td>\n",
       "      <td>True</td>\n",
       "      <td>YES</td>\n",
       "      <td>True</td>\n",
       "      <td>beer</td>\n",
       "      <td>6</td>\n",
       "      <td>2.0</td>\n",
       "      <td>False</td>\n",
       "    </tr>\n",
       "    <tr>\n",
       "      <th>28532</th>\n",
       "      <td>4ef45b6e4f7018dd</td>\n",
       "      <td>2018-01-10</td>\n",
       "      <td>St. Charles</td>\n",
       "      <td>IL</td>\n",
       "      <td>07 08, 1980</td>\n",
       "      <td>male</td>\n",
       "      <td>student</td>\n",
       "      <td>True</td>\n",
       "      <td>Yes</td>\n",
       "      <td>True</td>\n",
       "      <td>coffee</td>\n",
       "      <td>6</td>\n",
       "      <td>3.0</td>\n",
       "      <td>False</td>\n",
       "    </tr>\n",
       "    <tr>\n",
       "      <th>28573</th>\n",
       "      <td>88cb1a4916da334a</td>\n",
       "      <td>2019-01-08</td>\n",
       "      <td>Aurora</td>\n",
       "      <td>IL</td>\n",
       "      <td>Sep 06 87</td>\n",
       "      <td>male</td>\n",
       "      <td>unemployed</td>\n",
       "      <td>True</td>\n",
       "      <td>Yes</td>\n",
       "      <td>False</td>\n",
       "      <td>coffee</td>\n",
       "      <td>6</td>\n",
       "      <td>2.5</td>\n",
       "      <td>False</td>\n",
       "    </tr>\n",
       "    <tr>\n",
       "      <th>28609</th>\n",
       "      <td>96d5e53cad0d3bc0</td>\n",
       "      <td>2019-10-27</td>\n",
       "      <td>West Chicago</td>\n",
       "      <td>IL</td>\n",
       "      <td>1989-12-02</td>\n",
       "      <td>male</td>\n",
       "      <td>full-time</td>\n",
       "      <td>True</td>\n",
       "      <td>y</td>\n",
       "      <td>False</td>\n",
       "      <td>soda</td>\n",
       "      <td>6</td>\n",
       "      <td>2.5</td>\n",
       "      <td>False</td>\n",
       "    </tr>\n",
       "    <tr>\n",
       "      <th>28617</th>\n",
       "      <td>a2c2dcdb2415ed30</td>\n",
       "      <td>2019-04-16</td>\n",
       "      <td>Batavia</td>\n",
       "      <td>IL</td>\n",
       "      <td>Mar 23 87</td>\n",
       "      <td>female</td>\n",
       "      <td>full-time</td>\n",
       "      <td>True</td>\n",
       "      <td>Yes</td>\n",
       "      <td>True</td>\n",
       "      <td>tea</td>\n",
       "      <td>6</td>\n",
       "      <td>0.0</td>\n",
       "      <td>False</td>\n",
       "    </tr>\n",
       "  </tbody>\n",
       "</table>\n",
       "<p>2251 rows × 14 columns</p>\n",
       "</div>"
      ],
      "text/plain": [
       "                     id date_contacted             city state          dob  \\\n",
       "14     c9817d65d2cc149d     2019-01-29      Warrenville    IL     10/25/85   \n",
       "20     1c38711a4a5bfb4e     2018-01-21       Schaumburg    IL  Dec 02 1983   \n",
       "29     1ac708ae93be0ef5     2018-12-22  Hoffman Estates    IL   09-23-1971   \n",
       "65     0fe490ef503cd150     2018-05-16           Mokena    IL   08-04-1970   \n",
       "71     92d0d9e248866520     2019-06-24        Deer Park    IL    Feb 10 90   \n",
       "...                 ...            ...              ...   ...          ...   \n",
       "28522  658eff3fd8d0482e     2018-07-07     West Chicago    IL   03-06-1978   \n",
       "28532  4ef45b6e4f7018dd     2018-01-10      St. Charles    IL  07 08, 1980   \n",
       "28573  88cb1a4916da334a     2019-01-08           Aurora    IL    Sep 06 87   \n",
       "28609  96d5e53cad0d3bc0     2019-10-27     West Chicago    IL   1989-12-02   \n",
       "28617  a2c2dcdb2415ed30     2019-04-16          Batavia    IL    Mar 23 87   \n",
       "\n",
       "       gender  employment  owns_car owns_coffee_machine  owns_home  \\\n",
       "14     female  unemployed      True                 yes      False   \n",
       "20     female   full-time      True                 yup       True   \n",
       "29       male   full-time      True                 YES       True   \n",
       "65     female   full-time      True                 yes      False   \n",
       "71     female     student      True                  no      False   \n",
       "...       ...         ...       ...                 ...        ...   \n",
       "28522    male   full-time      True                 YES       True   \n",
       "28532    male     student      True                 Yes       True   \n",
       "28573    male  unemployed      True                 Yes      False   \n",
       "28609    male   full-time      True                   y      False   \n",
       "28617  female   full-time      True                 Yes       True   \n",
       "\n",
       "      beverage_preference  number_of_bags_purchased_competitor  \\\n",
       "14                    tea                                    6   \n",
       "20                 coffee                                    6   \n",
       "29                 coffee                                    6   \n",
       "65                 coffee                                    6   \n",
       "71                   wine                                    6   \n",
       "...                   ...                                  ...   \n",
       "28522                beer                                    6   \n",
       "28532              coffee                                    6   \n",
       "28573              coffee                                    6   \n",
       "28609                soda                                    6   \n",
       "28617                 tea                                    6   \n",
       "\n",
       "       competitor_satisfaction  bought_coffee  \n",
       "14                         2.0          False  \n",
       "20                         4.0          False  \n",
       "29                         3.5          False  \n",
       "65                         0.5          False  \n",
       "71                         0.5          False  \n",
       "...                        ...            ...  \n",
       "28522                      2.0          False  \n",
       "28532                      3.0          False  \n",
       "28573                      2.5          False  \n",
       "28609                      2.5          False  \n",
       "28617                      0.0          False  \n",
       "\n",
       "[2251 rows x 14 columns]"
      ]
     },
     "execution_count": 12,
     "metadata": {},
     "output_type": "execute_result"
    }
   ],
   "source": [
    "df.loc[df['number_of_bags_purchased_competitor'] == 6, :]"
   ]
  },
  {
   "cell_type": "code",
   "execution_count": 13,
   "id": "9c8158de",
   "metadata": {},
   "outputs": [
    {
     "name": "stdout",
     "output_type": "stream",
     "text": [
      "======================values city========================================\n",
      "\n",
      "Aurora             1122\n",
      "St. Charles        1100\n",
      "Wheaton            1099\n",
      "Schaumburg         1094\n",
      "Bolingbrook        1093\n",
      "Elgin              1092\n",
      "Barrington         1090\n",
      "Minooka            1087\n",
      "Plainfield         1086\n",
      "Glen Ellyn         1079\n",
      "West Chicago       1068\n",
      "Willowbrook        1066\n",
      "Batavia            1060\n",
      "West Dundee        1059\n",
      "Romeoville         1058\n",
      "Chicago            1056\n",
      "Inverness          1054\n",
      "Carol Stream       1045\n",
      "Mokena             1039\n",
      "Hoffman Estates    1039\n",
      "Palatine           1038\n",
      "Streamwood         1036\n",
      "Warrenville        1035\n",
      "Oswego             1032\n",
      "Naperville         1022\n",
      "Algonquin          1009\n",
      "Deer Park           999\n",
      "Name: city, dtype: int64\n",
      "======================values state========================================\n",
      "\n",
      "IL    28657\n",
      "Name: state, dtype: int64\n",
      "======================values gender========================================\n",
      "\n",
      "female    15507\n",
      "male      13150\n",
      "Name: gender, dtype: int64\n",
      "======================values employment========================================\n",
      "\n",
      "full-time     11670\n",
      "unemployed     5700\n",
      "part-time      4840\n",
      "student        4404\n",
      "retired        1765\n",
      "              ...  \n",
      "retird            1\n",
      "unemployd         1\n",
      "unemloyed         1\n",
      "retierd           1\n",
      "reired            1\n",
      "Name: employment, Length: 68, dtype: int64\n",
      "======================values owns_car========================================\n",
      "\n",
      "True     25110\n",
      "False     3547\n",
      "Name: owns_car, dtype: int64\n",
      "======================values owns_coffee_machine========================================\n",
      "\n",
      "Yes             4957\n",
      "yes             3834\n",
      "YES             3036\n",
      "ya              2914\n",
      "No              2289\n",
      "yup             1969\n",
      "y               1958\n",
      "no              1860\n",
      "NO              1334\n",
      "nope            1303\n",
      "I don't know    1141\n",
      "nah              899\n",
      "n                893\n",
      "dunno            270\n",
      "Name: owns_coffee_machine, dtype: int64\n",
      "======================values owns_home========================================\n",
      "\n",
      "True     14803\n",
      "False    13854\n",
      "Name: owns_home, dtype: int64\n",
      "======================values beverage_preference========================================\n",
      "\n",
      "coffee    14105\n",
      "beer       4188\n",
      "wine       3133\n",
      "water      2650\n",
      "soda       2190\n",
      "tea        2162\n",
      "cofee        26\n",
      "coffe        25\n",
      "cofefe       17\n",
      "cfofee       15\n",
      "cffee        14\n",
      "ber          12\n",
      "bere         12\n",
      "bee           9\n",
      "sod           7\n",
      "wien          7\n",
      "soad          7\n",
      "ta            7\n",
      "watre         6\n",
      "waetr         6\n",
      "tae           6\n",
      "wate          6\n",
      "wtaer         6\n",
      "sdoa          6\n",
      "wnie          6\n",
      "te            5\n",
      "soa           5\n",
      "wter          5\n",
      "wne           4\n",
      "watr          3\n",
      "wie           3\n",
      "sda           2\n",
      "waer          1\n",
      "win           1\n",
      "Name: beverage_preference, dtype: int64\n",
      "======================values number_of_bags_purchased_competitor========================================\n",
      "\n",
      "11    2279\n",
      "4     2263\n",
      "3     2261\n",
      "9     2261\n",
      "6     2251\n",
      "8     2228\n",
      "5     2183\n",
      "2     2183\n",
      "7     2183\n",
      "0     2171\n",
      "10    2157\n",
      "12    2136\n",
      "1     2101\n",
      "Name: number_of_bags_purchased_competitor, dtype: int64\n",
      "======================values competitor_satisfaction========================================\n",
      "\n",
      "0.5    2477\n",
      "3.0    2460\n",
      "4.5    2432\n",
      "2.5    2430\n",
      "5.0    2420\n",
      "1.0    2415\n",
      "1.5    2412\n",
      "3.5    2384\n",
      "4.0    2356\n",
      "0.0    2355\n",
      "2.0    2345\n",
      "Name: competitor_satisfaction, dtype: int64\n",
      "======================values bought_coffee========================================\n",
      "\n",
      "False    27739\n",
      "True       918\n",
      "Name: bought_coffee, dtype: int64\n"
     ]
    }
   ],
   "source": [
    "for col in ['city', 'state', 'gender', 'employment', 'owns_car', 'owns_coffee_machine', 'owns_home', 'beverage_preference', 'number_of_bags_purchased_competitor', 'competitor_satisfaction', 'bought_coffee']:\n",
    "    print(\"======================values \"+ col+\"========================================\")\n",
    "    print()\n",
    "    print(df[col].value_counts())"
   ]
  },
  {
   "cell_type": "code",
   "execution_count": 14,
   "id": "5e9abdc4",
   "metadata": {},
   "outputs": [],
   "source": [
    "def GraphValue(nameColumn, df):\n",
    "    val = df[nameColumn].value_counts()\n",
    "    fig = plt.figure(figsize = (20,10))\n",
    "    plt.bar(val.index, val.values * 100/df[nameColumn].count())\n",
    "    plt.title(nameColumn)\n",
    "    plt.xlabel(nameColumn)\n",
    "    plt.xticks(rotation=45)\n",
    "    plt.ylabel(\"percentage\")\n",
    "    plt.show()"
   ]
  },
  {
   "cell_type": "markdown",
   "id": "249694dd",
   "metadata": {},
   "source": [
    "# Summary:\n",
    "- In this dataset has some value is not assimilation. Means values lowercase mix with uppercase. And some values spelled incorrectly."
   ]
  },
  {
   "cell_type": "markdown",
   "id": "485ae233",
   "metadata": {},
   "source": [
    "# Handle data clean"
   ]
  },
  {
   "cell_type": "code",
   "execution_count": 15,
   "id": "36eb4030",
   "metadata": {},
   "outputs": [
    {
     "data": {
      "text/html": [
       "<div>\n",
       "<style scoped>\n",
       "    .dataframe tbody tr th:only-of-type {\n",
       "        vertical-align: middle;\n",
       "    }\n",
       "\n",
       "    .dataframe tbody tr th {\n",
       "        vertical-align: top;\n",
       "    }\n",
       "\n",
       "    .dataframe thead th {\n",
       "        text-align: right;\n",
       "    }\n",
       "</style>\n",
       "<table border=\"1\" class=\"dataframe\">\n",
       "  <thead>\n",
       "    <tr style=\"text-align: right;\">\n",
       "      <th></th>\n",
       "      <th>id</th>\n",
       "      <th>date_contacted</th>\n",
       "      <th>city</th>\n",
       "      <th>state</th>\n",
       "      <th>dob</th>\n",
       "      <th>gender</th>\n",
       "      <th>employment</th>\n",
       "      <th>owns_car</th>\n",
       "      <th>owns_coffee_machine</th>\n",
       "      <th>owns_home</th>\n",
       "      <th>beverage_preference</th>\n",
       "      <th>number_of_bags_purchased_competitor</th>\n",
       "      <th>competitor_satisfaction</th>\n",
       "      <th>bought_coffee</th>\n",
       "    </tr>\n",
       "  </thead>\n",
       "  <tbody>\n",
       "    <tr>\n",
       "      <th>0</th>\n",
       "      <td>1f3616520cc567f6</td>\n",
       "      <td>2019-09-16</td>\n",
       "      <td>Chicago</td>\n",
       "      <td>IL</td>\n",
       "      <td>07/04/1984</td>\n",
       "      <td>male</td>\n",
       "      <td>full-time</td>\n",
       "      <td>False</td>\n",
       "      <td>nope</td>\n",
       "      <td>False</td>\n",
       "      <td>bee</td>\n",
       "      <td>0</td>\n",
       "      <td>NaN</td>\n",
       "      <td>False</td>\n",
       "    </tr>\n",
       "    <tr>\n",
       "      <th>1</th>\n",
       "      <td>bba909acb4ee09ad</td>\n",
       "      <td>2018-07-13</td>\n",
       "      <td>Wheaton</td>\n",
       "      <td>IL</td>\n",
       "      <td>Sep 26, 83</td>\n",
       "      <td>female</td>\n",
       "      <td>retired</td>\n",
       "      <td>True</td>\n",
       "      <td>YES</td>\n",
       "      <td>False</td>\n",
       "      <td>wine</td>\n",
       "      <td>12</td>\n",
       "      <td>4.5</td>\n",
       "      <td>False</td>\n",
       "    </tr>\n",
       "  </tbody>\n",
       "</table>\n",
       "</div>"
      ],
      "text/plain": [
       "                 id date_contacted     city state         dob  gender  \\\n",
       "0  1f3616520cc567f6     2019-09-16  Chicago    IL  07/04/1984    male   \n",
       "1  bba909acb4ee09ad     2018-07-13  Wheaton    IL  Sep 26, 83  female   \n",
       "\n",
       "  employment  owns_car owns_coffee_machine  owns_home beverage_preference  \\\n",
       "0  full-time     False                nope      False                 bee   \n",
       "1    retired      True                 YES      False                wine   \n",
       "\n",
       "   number_of_bags_purchased_competitor  competitor_satisfaction  bought_coffee  \n",
       "0                                    0                      NaN          False  \n",
       "1                                   12                      4.5          False  "
      ]
     },
     "execution_count": 15,
     "metadata": {},
     "output_type": "execute_result"
    }
   ],
   "source": [
    "df.head(2)"
   ]
  },
  {
   "cell_type": "code",
   "execution_count": 16,
   "id": "9fc41710",
   "metadata": {},
   "outputs": [],
   "source": [
    "def replaceCharacter(string):\n",
    "  x = re.sub('\\W+', '-', string)\n",
    "  return x"
   ]
  },
  {
   "cell_type": "code",
   "execution_count": 17,
   "id": "a9881024",
   "metadata": {},
   "outputs": [],
   "source": [
    "df['dob'] = df['dob'].apply(lambda string: replaceCharacter(string))"
   ]
  },
  {
   "cell_type": "code",
   "execution_count": 18,
   "id": "a22bb1e9",
   "metadata": {},
   "outputs": [],
   "source": [
    "df.date_contacted = pd.to_datetime(df.date_contacted)"
   ]
  },
  {
   "cell_type": "code",
   "execution_count": 19,
   "id": "5a3a786e",
   "metadata": {},
   "outputs": [
    {
     "data": {
      "text/plain": [
       "0   2019-09-16\n",
       "1   2018-07-13\n",
       "2   2018-06-26\n",
       "3   2018-05-03\n",
       "4   2019-08-05\n",
       "5   2019-12-20\n",
       "6   2019-05-20\n",
       "7   2018-03-11\n",
       "8   2018-05-08\n",
       "Name: date_contacted, dtype: datetime64[ns]"
      ]
     },
     "execution_count": 19,
     "metadata": {},
     "output_type": "execute_result"
    }
   ],
   "source": [
    "df.date_contacted[:9]"
   ]
  },
  {
   "cell_type": "code",
   "execution_count": 20,
   "id": "00f207b1",
   "metadata": {},
   "outputs": [],
   "source": [
    "def splitTime(times, types):\n",
    "  if types == 'year':\n",
    "    return times.year\n",
    "  if types == 'month':\n",
    "    return times.month\n",
    "  if types == 'day':\n",
    "    return times.day"
   ]
  },
  {
   "cell_type": "code",
   "execution_count": 21,
   "id": "a0057408",
   "metadata": {},
   "outputs": [],
   "source": [
    "df['month'] = df['date_contacted'].apply(lambda string: splitTime(string, 'month'))\n",
    "df['year'] = df['date_contacted'].apply(lambda string: splitTime(string, 'year'))\n",
    "df['date'] = df['date_contacted'].apply(lambda string: splitTime(string, 'day'))"
   ]
  },
  {
   "cell_type": "code",
   "execution_count": 22,
   "id": "e20099ec",
   "metadata": {},
   "outputs": [
    {
     "data": {
      "text/html": [
       "<div>\n",
       "<style scoped>\n",
       "    .dataframe tbody tr th:only-of-type {\n",
       "        vertical-align: middle;\n",
       "    }\n",
       "\n",
       "    .dataframe tbody tr th {\n",
       "        vertical-align: top;\n",
       "    }\n",
       "\n",
       "    .dataframe thead th {\n",
       "        text-align: right;\n",
       "    }\n",
       "</style>\n",
       "<table border=\"1\" class=\"dataframe\">\n",
       "  <thead>\n",
       "    <tr style=\"text-align: right;\">\n",
       "      <th></th>\n",
       "      <th>id</th>\n",
       "      <th>date_contacted</th>\n",
       "      <th>city</th>\n",
       "      <th>state</th>\n",
       "      <th>dob</th>\n",
       "      <th>gender</th>\n",
       "      <th>employment</th>\n",
       "      <th>owns_car</th>\n",
       "      <th>owns_coffee_machine</th>\n",
       "      <th>owns_home</th>\n",
       "      <th>beverage_preference</th>\n",
       "      <th>number_of_bags_purchased_competitor</th>\n",
       "      <th>competitor_satisfaction</th>\n",
       "      <th>bought_coffee</th>\n",
       "      <th>month</th>\n",
       "      <th>year</th>\n",
       "      <th>date</th>\n",
       "    </tr>\n",
       "  </thead>\n",
       "  <tbody>\n",
       "    <tr>\n",
       "      <th>0</th>\n",
       "      <td>1f3616520cc567f6</td>\n",
       "      <td>2019-09-16</td>\n",
       "      <td>Chicago</td>\n",
       "      <td>IL</td>\n",
       "      <td>07-04-1984</td>\n",
       "      <td>male</td>\n",
       "      <td>full-time</td>\n",
       "      <td>False</td>\n",
       "      <td>nope</td>\n",
       "      <td>False</td>\n",
       "      <td>bee</td>\n",
       "      <td>0</td>\n",
       "      <td>NaN</td>\n",
       "      <td>False</td>\n",
       "      <td>9</td>\n",
       "      <td>2019</td>\n",
       "      <td>16</td>\n",
       "    </tr>\n",
       "    <tr>\n",
       "      <th>1</th>\n",
       "      <td>bba909acb4ee09ad</td>\n",
       "      <td>2018-07-13</td>\n",
       "      <td>Wheaton</td>\n",
       "      <td>IL</td>\n",
       "      <td>Sep-26-83</td>\n",
       "      <td>female</td>\n",
       "      <td>retired</td>\n",
       "      <td>True</td>\n",
       "      <td>YES</td>\n",
       "      <td>False</td>\n",
       "      <td>wine</td>\n",
       "      <td>12</td>\n",
       "      <td>4.5</td>\n",
       "      <td>False</td>\n",
       "      <td>7</td>\n",
       "      <td>2018</td>\n",
       "      <td>13</td>\n",
       "    </tr>\n",
       "    <tr>\n",
       "      <th>2</th>\n",
       "      <td>41bbc4397911869c</td>\n",
       "      <td>2018-06-26</td>\n",
       "      <td>Glen Ellyn</td>\n",
       "      <td>IL</td>\n",
       "      <td>November-06-1980</td>\n",
       "      <td>male</td>\n",
       "      <td>full-time</td>\n",
       "      <td>True</td>\n",
       "      <td>no</td>\n",
       "      <td>True</td>\n",
       "      <td>coffee</td>\n",
       "      <td>10</td>\n",
       "      <td>0.0</td>\n",
       "      <td>False</td>\n",
       "      <td>6</td>\n",
       "      <td>2018</td>\n",
       "      <td>26</td>\n",
       "    </tr>\n",
       "    <tr>\n",
       "      <th>3</th>\n",
       "      <td>acde7a45c3c8fbed</td>\n",
       "      <td>2018-05-03</td>\n",
       "      <td>Hoffman Estates</td>\n",
       "      <td>IL</td>\n",
       "      <td>Jan-22-74</td>\n",
       "      <td>female</td>\n",
       "      <td>part-time</td>\n",
       "      <td>True</td>\n",
       "      <td>yes</td>\n",
       "      <td>False</td>\n",
       "      <td>coffee</td>\n",
       "      <td>1</td>\n",
       "      <td>2.0</td>\n",
       "      <td>False</td>\n",
       "      <td>5</td>\n",
       "      <td>2018</td>\n",
       "      <td>3</td>\n",
       "    </tr>\n",
       "    <tr>\n",
       "      <th>4</th>\n",
       "      <td>e24da06a896d1cc6</td>\n",
       "      <td>2019-08-05</td>\n",
       "      <td>St. Charles</td>\n",
       "      <td>IL</td>\n",
       "      <td>January-31-1988</td>\n",
       "      <td>female</td>\n",
       "      <td>unemployed</td>\n",
       "      <td>True</td>\n",
       "      <td>I don't know</td>\n",
       "      <td>False</td>\n",
       "      <td>coffee</td>\n",
       "      <td>10</td>\n",
       "      <td>3.0</td>\n",
       "      <td>False</td>\n",
       "      <td>8</td>\n",
       "      <td>2019</td>\n",
       "      <td>5</td>\n",
       "    </tr>\n",
       "  </tbody>\n",
       "</table>\n",
       "</div>"
      ],
      "text/plain": [
       "                 id date_contacted             city state               dob  \\\n",
       "0  1f3616520cc567f6     2019-09-16          Chicago    IL        07-04-1984   \n",
       "1  bba909acb4ee09ad     2018-07-13          Wheaton    IL         Sep-26-83   \n",
       "2  41bbc4397911869c     2018-06-26       Glen Ellyn    IL  November-06-1980   \n",
       "3  acde7a45c3c8fbed     2018-05-03  Hoffman Estates    IL         Jan-22-74   \n",
       "4  e24da06a896d1cc6     2019-08-05      St. Charles    IL   January-31-1988   \n",
       "\n",
       "   gender  employment  owns_car owns_coffee_machine  owns_home  \\\n",
       "0    male   full-time     False                nope      False   \n",
       "1  female     retired      True                 YES      False   \n",
       "2    male   full-time      True                  no       True   \n",
       "3  female   part-time      True                 yes      False   \n",
       "4  female  unemployed      True        I don't know      False   \n",
       "\n",
       "  beverage_preference  number_of_bags_purchased_competitor  \\\n",
       "0                 bee                                    0   \n",
       "1                wine                                   12   \n",
       "2              coffee                                   10   \n",
       "3              coffee                                    1   \n",
       "4              coffee                                   10   \n",
       "\n",
       "   competitor_satisfaction  bought_coffee  month  year  date  \n",
       "0                      NaN          False      9  2019    16  \n",
       "1                      4.5          False      7  2018    13  \n",
       "2                      0.0          False      6  2018    26  \n",
       "3                      2.0          False      5  2018     3  \n",
       "4                      3.0          False      8  2019     5  "
      ]
     },
     "execution_count": 22,
     "metadata": {},
     "output_type": "execute_result"
    }
   ],
   "source": [
    "df.head()"
   ]
  },
  {
   "cell_type": "code",
   "execution_count": 23,
   "id": "d84bca5a",
   "metadata": {},
   "outputs": [],
   "source": [
    "df['dob'] = pd.to_datetime(df.dob)"
   ]
  },
  {
   "cell_type": "code",
   "execution_count": 24,
   "id": "7fddaf42",
   "metadata": {},
   "outputs": [],
   "source": [
    "df['month_dob'] = df['dob'].apply(lambda string: splitTime(string, 'month'))\n",
    "df['year_dob'] = df['dob'].apply(lambda string: splitTime(string, 'year'))\n",
    "df['date_dob'] = df['dob'].apply(lambda string: splitTime(string, 'day'))"
   ]
  },
  {
   "cell_type": "code",
   "execution_count": 25,
   "id": "6112fc59",
   "metadata": {},
   "outputs": [
    {
     "data": {
      "text/html": [
       "<div>\n",
       "<style scoped>\n",
       "    .dataframe tbody tr th:only-of-type {\n",
       "        vertical-align: middle;\n",
       "    }\n",
       "\n",
       "    .dataframe tbody tr th {\n",
       "        vertical-align: top;\n",
       "    }\n",
       "\n",
       "    .dataframe thead th {\n",
       "        text-align: right;\n",
       "    }\n",
       "</style>\n",
       "<table border=\"1\" class=\"dataframe\">\n",
       "  <thead>\n",
       "    <tr style=\"text-align: right;\">\n",
       "      <th></th>\n",
       "      <th>id</th>\n",
       "      <th>date_contacted</th>\n",
       "      <th>city</th>\n",
       "      <th>state</th>\n",
       "      <th>dob</th>\n",
       "      <th>gender</th>\n",
       "      <th>employment</th>\n",
       "      <th>owns_car</th>\n",
       "      <th>owns_coffee_machine</th>\n",
       "      <th>owns_home</th>\n",
       "      <th>beverage_preference</th>\n",
       "      <th>number_of_bags_purchased_competitor</th>\n",
       "      <th>competitor_satisfaction</th>\n",
       "      <th>bought_coffee</th>\n",
       "      <th>month</th>\n",
       "      <th>year</th>\n",
       "      <th>date</th>\n",
       "      <th>month_dob</th>\n",
       "      <th>year_dob</th>\n",
       "      <th>date_dob</th>\n",
       "    </tr>\n",
       "  </thead>\n",
       "  <tbody>\n",
       "    <tr>\n",
       "      <th>0</th>\n",
       "      <td>1f3616520cc567f6</td>\n",
       "      <td>2019-09-16</td>\n",
       "      <td>Chicago</td>\n",
       "      <td>IL</td>\n",
       "      <td>1984-07-04</td>\n",
       "      <td>male</td>\n",
       "      <td>full-time</td>\n",
       "      <td>False</td>\n",
       "      <td>nope</td>\n",
       "      <td>False</td>\n",
       "      <td>bee</td>\n",
       "      <td>0</td>\n",
       "      <td>NaN</td>\n",
       "      <td>False</td>\n",
       "      <td>9</td>\n",
       "      <td>2019</td>\n",
       "      <td>16</td>\n",
       "      <td>7</td>\n",
       "      <td>1984</td>\n",
       "      <td>4</td>\n",
       "    </tr>\n",
       "    <tr>\n",
       "      <th>1</th>\n",
       "      <td>bba909acb4ee09ad</td>\n",
       "      <td>2018-07-13</td>\n",
       "      <td>Wheaton</td>\n",
       "      <td>IL</td>\n",
       "      <td>1983-09-26</td>\n",
       "      <td>female</td>\n",
       "      <td>retired</td>\n",
       "      <td>True</td>\n",
       "      <td>YES</td>\n",
       "      <td>False</td>\n",
       "      <td>wine</td>\n",
       "      <td>12</td>\n",
       "      <td>4.5</td>\n",
       "      <td>False</td>\n",
       "      <td>7</td>\n",
       "      <td>2018</td>\n",
       "      <td>13</td>\n",
       "      <td>9</td>\n",
       "      <td>1983</td>\n",
       "      <td>26</td>\n",
       "    </tr>\n",
       "    <tr>\n",
       "      <th>2</th>\n",
       "      <td>41bbc4397911869c</td>\n",
       "      <td>2018-06-26</td>\n",
       "      <td>Glen Ellyn</td>\n",
       "      <td>IL</td>\n",
       "      <td>1980-11-06</td>\n",
       "      <td>male</td>\n",
       "      <td>full-time</td>\n",
       "      <td>True</td>\n",
       "      <td>no</td>\n",
       "      <td>True</td>\n",
       "      <td>coffee</td>\n",
       "      <td>10</td>\n",
       "      <td>0.0</td>\n",
       "      <td>False</td>\n",
       "      <td>6</td>\n",
       "      <td>2018</td>\n",
       "      <td>26</td>\n",
       "      <td>11</td>\n",
       "      <td>1980</td>\n",
       "      <td>6</td>\n",
       "    </tr>\n",
       "    <tr>\n",
       "      <th>3</th>\n",
       "      <td>acde7a45c3c8fbed</td>\n",
       "      <td>2018-05-03</td>\n",
       "      <td>Hoffman Estates</td>\n",
       "      <td>IL</td>\n",
       "      <td>1974-01-22</td>\n",
       "      <td>female</td>\n",
       "      <td>part-time</td>\n",
       "      <td>True</td>\n",
       "      <td>yes</td>\n",
       "      <td>False</td>\n",
       "      <td>coffee</td>\n",
       "      <td>1</td>\n",
       "      <td>2.0</td>\n",
       "      <td>False</td>\n",
       "      <td>5</td>\n",
       "      <td>2018</td>\n",
       "      <td>3</td>\n",
       "      <td>1</td>\n",
       "      <td>1974</td>\n",
       "      <td>22</td>\n",
       "    </tr>\n",
       "    <tr>\n",
       "      <th>4</th>\n",
       "      <td>e24da06a896d1cc6</td>\n",
       "      <td>2019-08-05</td>\n",
       "      <td>St. Charles</td>\n",
       "      <td>IL</td>\n",
       "      <td>1988-01-31</td>\n",
       "      <td>female</td>\n",
       "      <td>unemployed</td>\n",
       "      <td>True</td>\n",
       "      <td>I don't know</td>\n",
       "      <td>False</td>\n",
       "      <td>coffee</td>\n",
       "      <td>10</td>\n",
       "      <td>3.0</td>\n",
       "      <td>False</td>\n",
       "      <td>8</td>\n",
       "      <td>2019</td>\n",
       "      <td>5</td>\n",
       "      <td>1</td>\n",
       "      <td>1988</td>\n",
       "      <td>31</td>\n",
       "    </tr>\n",
       "  </tbody>\n",
       "</table>\n",
       "</div>"
      ],
      "text/plain": [
       "                 id date_contacted             city state        dob  gender  \\\n",
       "0  1f3616520cc567f6     2019-09-16          Chicago    IL 1984-07-04    male   \n",
       "1  bba909acb4ee09ad     2018-07-13          Wheaton    IL 1983-09-26  female   \n",
       "2  41bbc4397911869c     2018-06-26       Glen Ellyn    IL 1980-11-06    male   \n",
       "3  acde7a45c3c8fbed     2018-05-03  Hoffman Estates    IL 1974-01-22  female   \n",
       "4  e24da06a896d1cc6     2019-08-05      St. Charles    IL 1988-01-31  female   \n",
       "\n",
       "   employment  owns_car owns_coffee_machine  owns_home beverage_preference  \\\n",
       "0   full-time     False                nope      False                 bee   \n",
       "1     retired      True                 YES      False                wine   \n",
       "2   full-time      True                  no       True              coffee   \n",
       "3   part-time      True                 yes      False              coffee   \n",
       "4  unemployed      True        I don't know      False              coffee   \n",
       "\n",
       "   number_of_bags_purchased_competitor  competitor_satisfaction  \\\n",
       "0                                    0                      NaN   \n",
       "1                                   12                      4.5   \n",
       "2                                   10                      0.0   \n",
       "3                                    1                      2.0   \n",
       "4                                   10                      3.0   \n",
       "\n",
       "   bought_coffee  month  year  date  month_dob  year_dob  date_dob  \n",
       "0          False      9  2019    16          7      1984         4  \n",
       "1          False      7  2018    13          9      1983        26  \n",
       "2          False      6  2018    26         11      1980         6  \n",
       "3          False      5  2018     3          1      1974        22  \n",
       "4          False      8  2019     5          1      1988        31  "
      ]
     },
     "execution_count": 25,
     "metadata": {},
     "output_type": "execute_result"
    }
   ],
   "source": [
    "df.head()"
   ]
  },
  {
   "cell_type": "code",
   "execution_count": 26,
   "id": "156fb3bc",
   "metadata": {},
   "outputs": [
    {
     "data": {
      "text/html": [
       "<div>\n",
       "<style scoped>\n",
       "    .dataframe tbody tr th:only-of-type {\n",
       "        vertical-align: middle;\n",
       "    }\n",
       "\n",
       "    .dataframe tbody tr th {\n",
       "        vertical-align: top;\n",
       "    }\n",
       "\n",
       "    .dataframe thead th {\n",
       "        text-align: right;\n",
       "    }\n",
       "</style>\n",
       "<table border=\"1\" class=\"dataframe\">\n",
       "  <thead>\n",
       "    <tr style=\"text-align: right;\">\n",
       "      <th></th>\n",
       "      <th>Name Columns</th>\n",
       "      <th>Total row</th>\n",
       "      <th>type col</th>\n",
       "      <th>Total unique</th>\n",
       "      <th>Total miss val</th>\n",
       "      <th>percentage missing value</th>\n",
       "    </tr>\n",
       "  </thead>\n",
       "  <tbody>\n",
       "    <tr>\n",
       "      <th>0</th>\n",
       "      <td>id</td>\n",
       "      <td>28657</td>\n",
       "      <td>object</td>\n",
       "      <td>28657</td>\n",
       "      <td>0</td>\n",
       "      <td>0.00000</td>\n",
       "    </tr>\n",
       "    <tr>\n",
       "      <th>1</th>\n",
       "      <td>date_contacted</td>\n",
       "      <td>28657</td>\n",
       "      <td>datetime64[ns]</td>\n",
       "      <td>730</td>\n",
       "      <td>0</td>\n",
       "      <td>0.00000</td>\n",
       "    </tr>\n",
       "    <tr>\n",
       "      <th>2</th>\n",
       "      <td>city</td>\n",
       "      <td>28657</td>\n",
       "      <td>object</td>\n",
       "      <td>27</td>\n",
       "      <td>0</td>\n",
       "      <td>0.00000</td>\n",
       "    </tr>\n",
       "    <tr>\n",
       "      <th>3</th>\n",
       "      <td>state</td>\n",
       "      <td>28657</td>\n",
       "      <td>object</td>\n",
       "      <td>1</td>\n",
       "      <td>0</td>\n",
       "      <td>0.00000</td>\n",
       "    </tr>\n",
       "    <tr>\n",
       "      <th>4</th>\n",
       "      <td>dob</td>\n",
       "      <td>28657</td>\n",
       "      <td>datetime64[ns]</td>\n",
       "      <td>9913</td>\n",
       "      <td>0</td>\n",
       "      <td>0.00000</td>\n",
       "    </tr>\n",
       "    <tr>\n",
       "      <th>5</th>\n",
       "      <td>gender</td>\n",
       "      <td>28657</td>\n",
       "      <td>object</td>\n",
       "      <td>2</td>\n",
       "      <td>0</td>\n",
       "      <td>0.00000</td>\n",
       "    </tr>\n",
       "    <tr>\n",
       "      <th>6</th>\n",
       "      <td>employment</td>\n",
       "      <td>28657</td>\n",
       "      <td>object</td>\n",
       "      <td>68</td>\n",
       "      <td>0</td>\n",
       "      <td>0.00000</td>\n",
       "    </tr>\n",
       "    <tr>\n",
       "      <th>7</th>\n",
       "      <td>owns_car</td>\n",
       "      <td>28657</td>\n",
       "      <td>bool</td>\n",
       "      <td>2</td>\n",
       "      <td>0</td>\n",
       "      <td>0.00000</td>\n",
       "    </tr>\n",
       "    <tr>\n",
       "      <th>8</th>\n",
       "      <td>owns_coffee_machine</td>\n",
       "      <td>28657</td>\n",
       "      <td>object</td>\n",
       "      <td>14</td>\n",
       "      <td>0</td>\n",
       "      <td>0.00000</td>\n",
       "    </tr>\n",
       "    <tr>\n",
       "      <th>9</th>\n",
       "      <td>owns_home</td>\n",
       "      <td>28657</td>\n",
       "      <td>bool</td>\n",
       "      <td>2</td>\n",
       "      <td>0</td>\n",
       "      <td>0.00000</td>\n",
       "    </tr>\n",
       "    <tr>\n",
       "      <th>10</th>\n",
       "      <td>beverage_preference</td>\n",
       "      <td>28657</td>\n",
       "      <td>object</td>\n",
       "      <td>34</td>\n",
       "      <td>0</td>\n",
       "      <td>0.00000</td>\n",
       "    </tr>\n",
       "    <tr>\n",
       "      <th>11</th>\n",
       "      <td>number_of_bags_purchased_competitor</td>\n",
       "      <td>28657</td>\n",
       "      <td>int64</td>\n",
       "      <td>13</td>\n",
       "      <td>0</td>\n",
       "      <td>0.00000</td>\n",
       "    </tr>\n",
       "    <tr>\n",
       "      <th>12</th>\n",
       "      <td>competitor_satisfaction</td>\n",
       "      <td>28657</td>\n",
       "      <td>float64</td>\n",
       "      <td>12</td>\n",
       "      <td>2171</td>\n",
       "      <td>7.57581</td>\n",
       "    </tr>\n",
       "    <tr>\n",
       "      <th>13</th>\n",
       "      <td>bought_coffee</td>\n",
       "      <td>28657</td>\n",
       "      <td>bool</td>\n",
       "      <td>2</td>\n",
       "      <td>0</td>\n",
       "      <td>0.00000</td>\n",
       "    </tr>\n",
       "    <tr>\n",
       "      <th>14</th>\n",
       "      <td>month</td>\n",
       "      <td>28657</td>\n",
       "      <td>int64</td>\n",
       "      <td>12</td>\n",
       "      <td>0</td>\n",
       "      <td>0.00000</td>\n",
       "    </tr>\n",
       "    <tr>\n",
       "      <th>15</th>\n",
       "      <td>year</td>\n",
       "      <td>28657</td>\n",
       "      <td>int64</td>\n",
       "      <td>2</td>\n",
       "      <td>0</td>\n",
       "      <td>0.00000</td>\n",
       "    </tr>\n",
       "    <tr>\n",
       "      <th>16</th>\n",
       "      <td>date</td>\n",
       "      <td>28657</td>\n",
       "      <td>int64</td>\n",
       "      <td>31</td>\n",
       "      <td>0</td>\n",
       "      <td>0.00000</td>\n",
       "    </tr>\n",
       "    <tr>\n",
       "      <th>17</th>\n",
       "      <td>month_dob</td>\n",
       "      <td>28657</td>\n",
       "      <td>int64</td>\n",
       "      <td>12</td>\n",
       "      <td>0</td>\n",
       "      <td>0.00000</td>\n",
       "    </tr>\n",
       "    <tr>\n",
       "      <th>18</th>\n",
       "      <td>year_dob</td>\n",
       "      <td>28657</td>\n",
       "      <td>int64</td>\n",
       "      <td>53</td>\n",
       "      <td>0</td>\n",
       "      <td>0.00000</td>\n",
       "    </tr>\n",
       "    <tr>\n",
       "      <th>19</th>\n",
       "      <td>date_dob</td>\n",
       "      <td>28657</td>\n",
       "      <td>int64</td>\n",
       "      <td>31</td>\n",
       "      <td>0</td>\n",
       "      <td>0.00000</td>\n",
       "    </tr>\n",
       "  </tbody>\n",
       "</table>\n",
       "</div>"
      ],
      "text/plain": [
       "                           Name Columns  Total row        type col  \\\n",
       "0                                    id      28657          object   \n",
       "1                        date_contacted      28657  datetime64[ns]   \n",
       "2                                  city      28657          object   \n",
       "3                                 state      28657          object   \n",
       "4                                   dob      28657  datetime64[ns]   \n",
       "5                                gender      28657          object   \n",
       "6                            employment      28657          object   \n",
       "7                              owns_car      28657            bool   \n",
       "8                   owns_coffee_machine      28657          object   \n",
       "9                             owns_home      28657            bool   \n",
       "10                  beverage_preference      28657          object   \n",
       "11  number_of_bags_purchased_competitor      28657           int64   \n",
       "12              competitor_satisfaction      28657         float64   \n",
       "13                        bought_coffee      28657            bool   \n",
       "14                                month      28657           int64   \n",
       "15                                 year      28657           int64   \n",
       "16                                 date      28657           int64   \n",
       "17                            month_dob      28657           int64   \n",
       "18                             year_dob      28657           int64   \n",
       "19                             date_dob      28657           int64   \n",
       "\n",
       "    Total unique  Total miss val  percentage missing value  \n",
       "0          28657               0                   0.00000  \n",
       "1            730               0                   0.00000  \n",
       "2             27               0                   0.00000  \n",
       "3              1               0                   0.00000  \n",
       "4           9913               0                   0.00000  \n",
       "5              2               0                   0.00000  \n",
       "6             68               0                   0.00000  \n",
       "7              2               0                   0.00000  \n",
       "8             14               0                   0.00000  \n",
       "9              2               0                   0.00000  \n",
       "10            34               0                   0.00000  \n",
       "11            13               0                   0.00000  \n",
       "12            12            2171                   7.57581  \n",
       "13             2               0                   0.00000  \n",
       "14            12               0                   0.00000  \n",
       "15             2               0                   0.00000  \n",
       "16            31               0                   0.00000  \n",
       "17            12               0                   0.00000  \n",
       "18            53               0                   0.00000  \n",
       "19            31               0                   0.00000  "
      ]
     },
     "execution_count": 26,
     "metadata": {},
     "output_type": "execute_result"
    }
   ],
   "source": [
    "infomationData(df)"
   ]
  },
  {
   "cell_type": "code",
   "execution_count": 27,
   "id": "6cf66109",
   "metadata": {},
   "outputs": [
    {
     "data": {
      "text/plain": [
       "array(['nope', 'YES', 'no', 'yes', \"I don't know\", 'y', 'yup', 'No',\n",
       "       'Yes', 'dunno', 'nah', 'ya', 'n', 'NO'], dtype=object)"
      ]
     },
     "execution_count": 27,
     "metadata": {},
     "output_type": "execute_result"
    }
   ],
   "source": [
    "df['owns_coffee_machine'].unique()"
   ]
  },
  {
   "cell_type": "code",
   "execution_count": 28,
   "id": "b2eba815",
   "metadata": {},
   "outputs": [],
   "source": [
    "df['owns_coffee_machine'] = df['owns_coffee_machine'].str.lower()"
   ]
  },
  {
   "cell_type": "code",
   "execution_count": 29,
   "id": "195eec71",
   "metadata": {},
   "outputs": [],
   "source": [
    "def replaceStringCoffeeMachine(string, word, wordReplace):\n",
    "  try:\n",
    "    x= re.search(word, string).string\n",
    "    x = wordReplace\n",
    "    return x\n",
    "  except:\n",
    "    return string"
   ]
  },
  {
   "cell_type": "code",
   "execution_count": 30,
   "id": "3791cd30",
   "metadata": {},
   "outputs": [],
   "source": [
    "df['owns_coffee_machine'] = df['owns_coffee_machine'].apply(lambda string: replaceStringCoffeeMachine(string, '^y', 'yes'))\n",
    "df['owns_coffee_machine'] = df['owns_coffee_machine'].apply(lambda string: replaceStringCoffeeMachine(string, '^n', 'no'))\n",
    "df['owns_coffee_machine'] = df['owns_coffee_machine'].apply(lambda string: replaceStringCoffeeMachine(string, '^d', \"i don't know\"))"
   ]
  },
  {
   "cell_type": "code",
   "execution_count": 31,
   "id": "a17c4674",
   "metadata": {},
   "outputs": [
    {
     "data": {
      "text/plain": [
       "yes             18668\n",
       "no               8578\n",
       "i don't know     1411\n",
       "Name: owns_coffee_machine, dtype: int64"
      ]
     },
     "execution_count": 31,
     "metadata": {},
     "output_type": "execute_result"
    }
   ],
   "source": [
    "df['owns_coffee_machine'].value_counts()"
   ]
  },
  {
   "cell_type": "code",
   "execution_count": 32,
   "id": "20da82af",
   "metadata": {},
   "outputs": [
    {
     "data": {
      "text/plain": [
       "array(['bee', 'wine', 'coffee', 'water', 'tea', 'beer', 'soda', 'wter',\n",
       "       'cffee', 'sod', 'cfofee', 'cofefe', 'watre', 'te', 'sda', 'soad',\n",
       "       'wate', 'ber', 'cofee', 'waetr', 'wien', 'soa', 'ta', 'tae',\n",
       "       'coffe', 'watr', 'bere', 'wtaer', 'sdoa', 'wie', 'wnie', 'wne',\n",
       "       'waer', 'win'], dtype=object)"
      ]
     },
     "execution_count": 32,
     "metadata": {},
     "output_type": "execute_result"
    }
   ],
   "source": [
    "df['beverage_preference'].unique()"
   ]
  },
  {
   "cell_type": "code",
   "execution_count": 33,
   "id": "eed6ff5c",
   "metadata": {},
   "outputs": [],
   "source": [
    "def fixWord(word):\n",
    "  w = Word(word)\n",
    "  fixWord = w.correct()\n",
    "  drinks = ['water', 'beer', 'wine', 'coffee', 'tea', 'soda']\n",
    "  for drink in drinks:\n",
    "    if fixWord == drink:\n",
    "      return fixWord\n",
    "  return word"
   ]
  },
  {
   "cell_type": "code",
   "execution_count": 34,
   "id": "479f99d5",
   "metadata": {},
   "outputs": [],
   "source": [
    "df['beverage_preference'] = df['beverage_preference'].apply(lambda string: fixWord(string))"
   ]
  },
  {
   "cell_type": "code",
   "execution_count": 35,
   "id": "56c89780",
   "metadata": {},
   "outputs": [],
   "source": [
    "dictFixWord = { 'bee': 'beer',\n",
    "               'sod': 'soda',\n",
    "               'te': 'tea',\n",
    "               'bere': 'beer',\n",
    "               'sda': 'soda',\n",
    "               'soad': 'soda',\n",
    "               'wien': 'wine', \n",
    "               'soa': 'soda',\n",
    "               'ta': 'tea',\n",
    "               'ber': 'beer',\n",
    "               'watr': 'water',\n",
    "               'wie': 'wine',\n",
    "               'wne': 'wine', \n",
    "               'waer': 'water',\n",
    "               'win': 'wine'\n",
    "               }"
   ]
  },
  {
   "cell_type": "code",
   "execution_count": 36,
   "id": "d3203e2a",
   "metadata": {},
   "outputs": [],
   "source": [
    "for k,v in dictFixWord.items():\n",
    "  df['beverage_preference'] = df['beverage_preference'].apply(lambda string: replaceStringCoffeeMachine(string, k, v))"
   ]
  },
  {
   "cell_type": "code",
   "execution_count": 37,
   "id": "6dda2582",
   "metadata": {},
   "outputs": [
    {
     "data": {
      "text/html": [
       "<div>\n",
       "<style scoped>\n",
       "    .dataframe tbody tr th:only-of-type {\n",
       "        vertical-align: middle;\n",
       "    }\n",
       "\n",
       "    .dataframe tbody tr th {\n",
       "        vertical-align: top;\n",
       "    }\n",
       "\n",
       "    .dataframe thead th {\n",
       "        text-align: right;\n",
       "    }\n",
       "</style>\n",
       "<table border=\"1\" class=\"dataframe\">\n",
       "  <thead>\n",
       "    <tr style=\"text-align: right;\">\n",
       "      <th></th>\n",
       "      <th>Name Columns</th>\n",
       "      <th>Total row</th>\n",
       "      <th>type col</th>\n",
       "      <th>Total unique</th>\n",
       "      <th>Total miss val</th>\n",
       "      <th>percentage missing value</th>\n",
       "    </tr>\n",
       "  </thead>\n",
       "  <tbody>\n",
       "    <tr>\n",
       "      <th>0</th>\n",
       "      <td>id</td>\n",
       "      <td>28657</td>\n",
       "      <td>object</td>\n",
       "      <td>28657</td>\n",
       "      <td>0</td>\n",
       "      <td>0.00000</td>\n",
       "    </tr>\n",
       "    <tr>\n",
       "      <th>1</th>\n",
       "      <td>date_contacted</td>\n",
       "      <td>28657</td>\n",
       "      <td>datetime64[ns]</td>\n",
       "      <td>730</td>\n",
       "      <td>0</td>\n",
       "      <td>0.00000</td>\n",
       "    </tr>\n",
       "    <tr>\n",
       "      <th>2</th>\n",
       "      <td>city</td>\n",
       "      <td>28657</td>\n",
       "      <td>object</td>\n",
       "      <td>27</td>\n",
       "      <td>0</td>\n",
       "      <td>0.00000</td>\n",
       "    </tr>\n",
       "    <tr>\n",
       "      <th>3</th>\n",
       "      <td>state</td>\n",
       "      <td>28657</td>\n",
       "      <td>object</td>\n",
       "      <td>1</td>\n",
       "      <td>0</td>\n",
       "      <td>0.00000</td>\n",
       "    </tr>\n",
       "    <tr>\n",
       "      <th>4</th>\n",
       "      <td>dob</td>\n",
       "      <td>28657</td>\n",
       "      <td>datetime64[ns]</td>\n",
       "      <td>9913</td>\n",
       "      <td>0</td>\n",
       "      <td>0.00000</td>\n",
       "    </tr>\n",
       "    <tr>\n",
       "      <th>5</th>\n",
       "      <td>gender</td>\n",
       "      <td>28657</td>\n",
       "      <td>object</td>\n",
       "      <td>2</td>\n",
       "      <td>0</td>\n",
       "      <td>0.00000</td>\n",
       "    </tr>\n",
       "    <tr>\n",
       "      <th>6</th>\n",
       "      <td>employment</td>\n",
       "      <td>28657</td>\n",
       "      <td>object</td>\n",
       "      <td>68</td>\n",
       "      <td>0</td>\n",
       "      <td>0.00000</td>\n",
       "    </tr>\n",
       "    <tr>\n",
       "      <th>7</th>\n",
       "      <td>owns_car</td>\n",
       "      <td>28657</td>\n",
       "      <td>bool</td>\n",
       "      <td>2</td>\n",
       "      <td>0</td>\n",
       "      <td>0.00000</td>\n",
       "    </tr>\n",
       "    <tr>\n",
       "      <th>8</th>\n",
       "      <td>owns_coffee_machine</td>\n",
       "      <td>28657</td>\n",
       "      <td>object</td>\n",
       "      <td>3</td>\n",
       "      <td>0</td>\n",
       "      <td>0.00000</td>\n",
       "    </tr>\n",
       "    <tr>\n",
       "      <th>9</th>\n",
       "      <td>owns_home</td>\n",
       "      <td>28657</td>\n",
       "      <td>bool</td>\n",
       "      <td>2</td>\n",
       "      <td>0</td>\n",
       "      <td>0.00000</td>\n",
       "    </tr>\n",
       "    <tr>\n",
       "      <th>10</th>\n",
       "      <td>beverage_preference</td>\n",
       "      <td>28657</td>\n",
       "      <td>object</td>\n",
       "      <td>6</td>\n",
       "      <td>0</td>\n",
       "      <td>0.00000</td>\n",
       "    </tr>\n",
       "    <tr>\n",
       "      <th>11</th>\n",
       "      <td>number_of_bags_purchased_competitor</td>\n",
       "      <td>28657</td>\n",
       "      <td>int64</td>\n",
       "      <td>13</td>\n",
       "      <td>0</td>\n",
       "      <td>0.00000</td>\n",
       "    </tr>\n",
       "    <tr>\n",
       "      <th>12</th>\n",
       "      <td>competitor_satisfaction</td>\n",
       "      <td>28657</td>\n",
       "      <td>float64</td>\n",
       "      <td>12</td>\n",
       "      <td>2171</td>\n",
       "      <td>7.57581</td>\n",
       "    </tr>\n",
       "    <tr>\n",
       "      <th>13</th>\n",
       "      <td>bought_coffee</td>\n",
       "      <td>28657</td>\n",
       "      <td>bool</td>\n",
       "      <td>2</td>\n",
       "      <td>0</td>\n",
       "      <td>0.00000</td>\n",
       "    </tr>\n",
       "    <tr>\n",
       "      <th>14</th>\n",
       "      <td>month</td>\n",
       "      <td>28657</td>\n",
       "      <td>int64</td>\n",
       "      <td>12</td>\n",
       "      <td>0</td>\n",
       "      <td>0.00000</td>\n",
       "    </tr>\n",
       "    <tr>\n",
       "      <th>15</th>\n",
       "      <td>year</td>\n",
       "      <td>28657</td>\n",
       "      <td>int64</td>\n",
       "      <td>2</td>\n",
       "      <td>0</td>\n",
       "      <td>0.00000</td>\n",
       "    </tr>\n",
       "    <tr>\n",
       "      <th>16</th>\n",
       "      <td>date</td>\n",
       "      <td>28657</td>\n",
       "      <td>int64</td>\n",
       "      <td>31</td>\n",
       "      <td>0</td>\n",
       "      <td>0.00000</td>\n",
       "    </tr>\n",
       "    <tr>\n",
       "      <th>17</th>\n",
       "      <td>month_dob</td>\n",
       "      <td>28657</td>\n",
       "      <td>int64</td>\n",
       "      <td>12</td>\n",
       "      <td>0</td>\n",
       "      <td>0.00000</td>\n",
       "    </tr>\n",
       "    <tr>\n",
       "      <th>18</th>\n",
       "      <td>year_dob</td>\n",
       "      <td>28657</td>\n",
       "      <td>int64</td>\n",
       "      <td>53</td>\n",
       "      <td>0</td>\n",
       "      <td>0.00000</td>\n",
       "    </tr>\n",
       "    <tr>\n",
       "      <th>19</th>\n",
       "      <td>date_dob</td>\n",
       "      <td>28657</td>\n",
       "      <td>int64</td>\n",
       "      <td>31</td>\n",
       "      <td>0</td>\n",
       "      <td>0.00000</td>\n",
       "    </tr>\n",
       "  </tbody>\n",
       "</table>\n",
       "</div>"
      ],
      "text/plain": [
       "                           Name Columns  Total row        type col  \\\n",
       "0                                    id      28657          object   \n",
       "1                        date_contacted      28657  datetime64[ns]   \n",
       "2                                  city      28657          object   \n",
       "3                                 state      28657          object   \n",
       "4                                   dob      28657  datetime64[ns]   \n",
       "5                                gender      28657          object   \n",
       "6                            employment      28657          object   \n",
       "7                              owns_car      28657            bool   \n",
       "8                   owns_coffee_machine      28657          object   \n",
       "9                             owns_home      28657            bool   \n",
       "10                  beverage_preference      28657          object   \n",
       "11  number_of_bags_purchased_competitor      28657           int64   \n",
       "12              competitor_satisfaction      28657         float64   \n",
       "13                        bought_coffee      28657            bool   \n",
       "14                                month      28657           int64   \n",
       "15                                 year      28657           int64   \n",
       "16                                 date      28657           int64   \n",
       "17                            month_dob      28657           int64   \n",
       "18                             year_dob      28657           int64   \n",
       "19                             date_dob      28657           int64   \n",
       "\n",
       "    Total unique  Total miss val  percentage missing value  \n",
       "0          28657               0                   0.00000  \n",
       "1            730               0                   0.00000  \n",
       "2             27               0                   0.00000  \n",
       "3              1               0                   0.00000  \n",
       "4           9913               0                   0.00000  \n",
       "5              2               0                   0.00000  \n",
       "6             68               0                   0.00000  \n",
       "7              2               0                   0.00000  \n",
       "8              3               0                   0.00000  \n",
       "9              2               0                   0.00000  \n",
       "10             6               0                   0.00000  \n",
       "11            13               0                   0.00000  \n",
       "12            12            2171                   7.57581  \n",
       "13             2               0                   0.00000  \n",
       "14            12               0                   0.00000  \n",
       "15             2               0                   0.00000  \n",
       "16            31               0                   0.00000  \n",
       "17            12               0                   0.00000  \n",
       "18            53               0                   0.00000  \n",
       "19            31               0                   0.00000  "
      ]
     },
     "execution_count": 37,
     "metadata": {},
     "output_type": "execute_result"
    }
   ],
   "source": [
    "infomationData(df)"
   ]
  },
  {
   "cell_type": "code",
   "execution_count": 38,
   "id": "7a1e80b1",
   "metadata": {},
   "outputs": [
    {
     "data": {
      "text/plain": [
       "array(['full-time', 'retired', 'part-time', 'unemployed', 'student',\n",
       "       'studen', 'part-tim', 'fll-time', 'full-tie', 'ful-time',\n",
       "       'fulltime', 'full-tiem', 'unemployde', 'part-tie', 'pat-time',\n",
       "       'uneployed', 'ful-ltime', 'fullt-ime', 'flul-time', 'part-tmie',\n",
       "       'unemplyed', 'part-ime', 'uenmployed', 'parttime', 'stuent',\n",
       "       'full-itme', 'full-tmie', 'stuednt', 'partt-ime', 'full-tim',\n",
       "       'prat-time', 'rtired', 'studetn', 'patr-time', 'studet',\n",
       "       'unmployed', 'par-time', 'unempolyed', 'retred', 'stduent',\n",
       "       'full-ime', 'retird', 'unemlpoyed', 'retierd', 'studnt',\n",
       "       'unempoyed', 'rteired', 'uemployed', 'retried', 'part-tiem',\n",
       "       'part-itme', 'unemloyed', 'unemployd', 'full-tme', 'sudent',\n",
       "       'unemplyoed', 'sutdent', 'unemploye', 'stdent', 'retied',\n",
       "       'reitred', 'par-ttime', 'unemploed', 'unepmloyed', 'studnet',\n",
       "       'unemploeyd', 'part-tme', 'reired'], dtype=object)"
      ]
     },
     "execution_count": 38,
     "metadata": {},
     "output_type": "execute_result"
    }
   ],
   "source": [
    "df['employment'].unique()"
   ]
  },
  {
   "cell_type": "code",
   "execution_count": 39,
   "id": "de1b5327",
   "metadata": {},
   "outputs": [],
   "source": [
    "df['employment'] = df['employment'].apply(lambda string: replaceStringCoffeeMachine(string, '^f', 'full-time'))\n",
    "df['employment'] = df['employment'].apply(lambda string: replaceStringCoffeeMachine(string, '^p', 'part-time'))\n",
    "df['employment'] = df['employment'].apply(lambda string: replaceStringCoffeeMachine(string, '^r', 'retired'))\n",
    "df['employment'] = df['employment'].apply(lambda string: replaceStringCoffeeMachine(string, '^s', 'student'))\n",
    "df['employment'] = df['employment'].apply(lambda string: replaceStringCoffeeMachine(string, '^u', 'unempolyed'))"
   ]
  },
  {
   "cell_type": "code",
   "execution_count": 40,
   "id": "3f6b78e6",
   "metadata": {},
   "outputs": [
    {
     "data": {
      "text/plain": [
       "array(['full-time', 'retired', 'part-time', 'unempolyed', 'student'],\n",
       "      dtype=object)"
      ]
     },
     "execution_count": 40,
     "metadata": {},
     "output_type": "execute_result"
    }
   ],
   "source": [
    "df['employment'].unique()"
   ]
  },
  {
   "cell_type": "code",
   "execution_count": 41,
   "id": "1477578f",
   "metadata": {},
   "outputs": [
    {
     "data": {
      "text/html": [
       "<div>\n",
       "<style scoped>\n",
       "    .dataframe tbody tr th:only-of-type {\n",
       "        vertical-align: middle;\n",
       "    }\n",
       "\n",
       "    .dataframe tbody tr th {\n",
       "        vertical-align: top;\n",
       "    }\n",
       "\n",
       "    .dataframe thead th {\n",
       "        text-align: right;\n",
       "    }\n",
       "</style>\n",
       "<table border=\"1\" class=\"dataframe\">\n",
       "  <thead>\n",
       "    <tr style=\"text-align: right;\">\n",
       "      <th></th>\n",
       "      <th>Name Columns</th>\n",
       "      <th>Total row</th>\n",
       "      <th>type col</th>\n",
       "      <th>Total unique</th>\n",
       "      <th>Total miss val</th>\n",
       "      <th>percentage missing value</th>\n",
       "    </tr>\n",
       "  </thead>\n",
       "  <tbody>\n",
       "    <tr>\n",
       "      <th>0</th>\n",
       "      <td>id</td>\n",
       "      <td>28657</td>\n",
       "      <td>object</td>\n",
       "      <td>28657</td>\n",
       "      <td>0</td>\n",
       "      <td>0.00000</td>\n",
       "    </tr>\n",
       "    <tr>\n",
       "      <th>1</th>\n",
       "      <td>date_contacted</td>\n",
       "      <td>28657</td>\n",
       "      <td>datetime64[ns]</td>\n",
       "      <td>730</td>\n",
       "      <td>0</td>\n",
       "      <td>0.00000</td>\n",
       "    </tr>\n",
       "    <tr>\n",
       "      <th>2</th>\n",
       "      <td>city</td>\n",
       "      <td>28657</td>\n",
       "      <td>object</td>\n",
       "      <td>27</td>\n",
       "      <td>0</td>\n",
       "      <td>0.00000</td>\n",
       "    </tr>\n",
       "    <tr>\n",
       "      <th>3</th>\n",
       "      <td>state</td>\n",
       "      <td>28657</td>\n",
       "      <td>object</td>\n",
       "      <td>1</td>\n",
       "      <td>0</td>\n",
       "      <td>0.00000</td>\n",
       "    </tr>\n",
       "    <tr>\n",
       "      <th>4</th>\n",
       "      <td>dob</td>\n",
       "      <td>28657</td>\n",
       "      <td>datetime64[ns]</td>\n",
       "      <td>9913</td>\n",
       "      <td>0</td>\n",
       "      <td>0.00000</td>\n",
       "    </tr>\n",
       "    <tr>\n",
       "      <th>5</th>\n",
       "      <td>gender</td>\n",
       "      <td>28657</td>\n",
       "      <td>object</td>\n",
       "      <td>2</td>\n",
       "      <td>0</td>\n",
       "      <td>0.00000</td>\n",
       "    </tr>\n",
       "    <tr>\n",
       "      <th>6</th>\n",
       "      <td>employment</td>\n",
       "      <td>28657</td>\n",
       "      <td>object</td>\n",
       "      <td>5</td>\n",
       "      <td>0</td>\n",
       "      <td>0.00000</td>\n",
       "    </tr>\n",
       "    <tr>\n",
       "      <th>7</th>\n",
       "      <td>owns_car</td>\n",
       "      <td>28657</td>\n",
       "      <td>bool</td>\n",
       "      <td>2</td>\n",
       "      <td>0</td>\n",
       "      <td>0.00000</td>\n",
       "    </tr>\n",
       "    <tr>\n",
       "      <th>8</th>\n",
       "      <td>owns_coffee_machine</td>\n",
       "      <td>28657</td>\n",
       "      <td>object</td>\n",
       "      <td>3</td>\n",
       "      <td>0</td>\n",
       "      <td>0.00000</td>\n",
       "    </tr>\n",
       "    <tr>\n",
       "      <th>9</th>\n",
       "      <td>owns_home</td>\n",
       "      <td>28657</td>\n",
       "      <td>bool</td>\n",
       "      <td>2</td>\n",
       "      <td>0</td>\n",
       "      <td>0.00000</td>\n",
       "    </tr>\n",
       "    <tr>\n",
       "      <th>10</th>\n",
       "      <td>beverage_preference</td>\n",
       "      <td>28657</td>\n",
       "      <td>object</td>\n",
       "      <td>6</td>\n",
       "      <td>0</td>\n",
       "      <td>0.00000</td>\n",
       "    </tr>\n",
       "    <tr>\n",
       "      <th>11</th>\n",
       "      <td>number_of_bags_purchased_competitor</td>\n",
       "      <td>28657</td>\n",
       "      <td>int64</td>\n",
       "      <td>13</td>\n",
       "      <td>0</td>\n",
       "      <td>0.00000</td>\n",
       "    </tr>\n",
       "    <tr>\n",
       "      <th>12</th>\n",
       "      <td>competitor_satisfaction</td>\n",
       "      <td>28657</td>\n",
       "      <td>float64</td>\n",
       "      <td>12</td>\n",
       "      <td>2171</td>\n",
       "      <td>7.57581</td>\n",
       "    </tr>\n",
       "    <tr>\n",
       "      <th>13</th>\n",
       "      <td>bought_coffee</td>\n",
       "      <td>28657</td>\n",
       "      <td>bool</td>\n",
       "      <td>2</td>\n",
       "      <td>0</td>\n",
       "      <td>0.00000</td>\n",
       "    </tr>\n",
       "    <tr>\n",
       "      <th>14</th>\n",
       "      <td>month</td>\n",
       "      <td>28657</td>\n",
       "      <td>int64</td>\n",
       "      <td>12</td>\n",
       "      <td>0</td>\n",
       "      <td>0.00000</td>\n",
       "    </tr>\n",
       "    <tr>\n",
       "      <th>15</th>\n",
       "      <td>year</td>\n",
       "      <td>28657</td>\n",
       "      <td>int64</td>\n",
       "      <td>2</td>\n",
       "      <td>0</td>\n",
       "      <td>0.00000</td>\n",
       "    </tr>\n",
       "    <tr>\n",
       "      <th>16</th>\n",
       "      <td>date</td>\n",
       "      <td>28657</td>\n",
       "      <td>int64</td>\n",
       "      <td>31</td>\n",
       "      <td>0</td>\n",
       "      <td>0.00000</td>\n",
       "    </tr>\n",
       "    <tr>\n",
       "      <th>17</th>\n",
       "      <td>month_dob</td>\n",
       "      <td>28657</td>\n",
       "      <td>int64</td>\n",
       "      <td>12</td>\n",
       "      <td>0</td>\n",
       "      <td>0.00000</td>\n",
       "    </tr>\n",
       "    <tr>\n",
       "      <th>18</th>\n",
       "      <td>year_dob</td>\n",
       "      <td>28657</td>\n",
       "      <td>int64</td>\n",
       "      <td>53</td>\n",
       "      <td>0</td>\n",
       "      <td>0.00000</td>\n",
       "    </tr>\n",
       "    <tr>\n",
       "      <th>19</th>\n",
       "      <td>date_dob</td>\n",
       "      <td>28657</td>\n",
       "      <td>int64</td>\n",
       "      <td>31</td>\n",
       "      <td>0</td>\n",
       "      <td>0.00000</td>\n",
       "    </tr>\n",
       "  </tbody>\n",
       "</table>\n",
       "</div>"
      ],
      "text/plain": [
       "                           Name Columns  Total row        type col  \\\n",
       "0                                    id      28657          object   \n",
       "1                        date_contacted      28657  datetime64[ns]   \n",
       "2                                  city      28657          object   \n",
       "3                                 state      28657          object   \n",
       "4                                   dob      28657  datetime64[ns]   \n",
       "5                                gender      28657          object   \n",
       "6                            employment      28657          object   \n",
       "7                              owns_car      28657            bool   \n",
       "8                   owns_coffee_machine      28657          object   \n",
       "9                             owns_home      28657            bool   \n",
       "10                  beverage_preference      28657          object   \n",
       "11  number_of_bags_purchased_competitor      28657           int64   \n",
       "12              competitor_satisfaction      28657         float64   \n",
       "13                        bought_coffee      28657            bool   \n",
       "14                                month      28657           int64   \n",
       "15                                 year      28657           int64   \n",
       "16                                 date      28657           int64   \n",
       "17                            month_dob      28657           int64   \n",
       "18                             year_dob      28657           int64   \n",
       "19                             date_dob      28657           int64   \n",
       "\n",
       "    Total unique  Total miss val  percentage missing value  \n",
       "0          28657               0                   0.00000  \n",
       "1            730               0                   0.00000  \n",
       "2             27               0                   0.00000  \n",
       "3              1               0                   0.00000  \n",
       "4           9913               0                   0.00000  \n",
       "5              2               0                   0.00000  \n",
       "6              5               0                   0.00000  \n",
       "7              2               0                   0.00000  \n",
       "8              3               0                   0.00000  \n",
       "9              2               0                   0.00000  \n",
       "10             6               0                   0.00000  \n",
       "11            13               0                   0.00000  \n",
       "12            12            2171                   7.57581  \n",
       "13             2               0                   0.00000  \n",
       "14            12               0                   0.00000  \n",
       "15             2               0                   0.00000  \n",
       "16            31               0                   0.00000  \n",
       "17            12               0                   0.00000  \n",
       "18            53               0                   0.00000  \n",
       "19            31               0                   0.00000  "
      ]
     },
     "execution_count": 41,
     "metadata": {},
     "output_type": "execute_result"
    }
   ],
   "source": [
    "infomationData(df)"
   ]
  },
  {
   "cell_type": "code",
   "execution_count": 42,
   "id": "aa5aeeaa",
   "metadata": {},
   "outputs": [
    {
     "data": {
      "text/html": [
       "<div>\n",
       "<style scoped>\n",
       "    .dataframe tbody tr th:only-of-type {\n",
       "        vertical-align: middle;\n",
       "    }\n",
       "\n",
       "    .dataframe tbody tr th {\n",
       "        vertical-align: top;\n",
       "    }\n",
       "\n",
       "    .dataframe thead th {\n",
       "        text-align: right;\n",
       "    }\n",
       "</style>\n",
       "<table border=\"1\" class=\"dataframe\">\n",
       "  <thead>\n",
       "    <tr style=\"text-align: right;\">\n",
       "      <th></th>\n",
       "      <th>id</th>\n",
       "      <th>date_contacted</th>\n",
       "      <th>city</th>\n",
       "      <th>state</th>\n",
       "      <th>dob</th>\n",
       "      <th>gender</th>\n",
       "      <th>employment</th>\n",
       "      <th>owns_car</th>\n",
       "      <th>owns_coffee_machine</th>\n",
       "      <th>owns_home</th>\n",
       "      <th>beverage_preference</th>\n",
       "      <th>number_of_bags_purchased_competitor</th>\n",
       "      <th>competitor_satisfaction</th>\n",
       "      <th>bought_coffee</th>\n",
       "      <th>month</th>\n",
       "      <th>year</th>\n",
       "      <th>date</th>\n",
       "      <th>month_dob</th>\n",
       "      <th>year_dob</th>\n",
       "      <th>date_dob</th>\n",
       "    </tr>\n",
       "  </thead>\n",
       "  <tbody>\n",
       "    <tr>\n",
       "      <th>0</th>\n",
       "      <td>1f3616520cc567f6</td>\n",
       "      <td>2019-09-16</td>\n",
       "      <td>Chicago</td>\n",
       "      <td>IL</td>\n",
       "      <td>1984-07-04</td>\n",
       "      <td>male</td>\n",
       "      <td>full-time</td>\n",
       "      <td>False</td>\n",
       "      <td>no</td>\n",
       "      <td>False</td>\n",
       "      <td>beer</td>\n",
       "      <td>0</td>\n",
       "      <td>NaN</td>\n",
       "      <td>False</td>\n",
       "      <td>9</td>\n",
       "      <td>2019</td>\n",
       "      <td>16</td>\n",
       "      <td>7</td>\n",
       "      <td>1984</td>\n",
       "      <td>4</td>\n",
       "    </tr>\n",
       "    <tr>\n",
       "      <th>1</th>\n",
       "      <td>bba909acb4ee09ad</td>\n",
       "      <td>2018-07-13</td>\n",
       "      <td>Wheaton</td>\n",
       "      <td>IL</td>\n",
       "      <td>1983-09-26</td>\n",
       "      <td>female</td>\n",
       "      <td>retired</td>\n",
       "      <td>True</td>\n",
       "      <td>yes</td>\n",
       "      <td>False</td>\n",
       "      <td>wine</td>\n",
       "      <td>12</td>\n",
       "      <td>4.5</td>\n",
       "      <td>False</td>\n",
       "      <td>7</td>\n",
       "      <td>2018</td>\n",
       "      <td>13</td>\n",
       "      <td>9</td>\n",
       "      <td>1983</td>\n",
       "      <td>26</td>\n",
       "    </tr>\n",
       "    <tr>\n",
       "      <th>2</th>\n",
       "      <td>41bbc4397911869c</td>\n",
       "      <td>2018-06-26</td>\n",
       "      <td>Glen Ellyn</td>\n",
       "      <td>IL</td>\n",
       "      <td>1980-11-06</td>\n",
       "      <td>male</td>\n",
       "      <td>full-time</td>\n",
       "      <td>True</td>\n",
       "      <td>no</td>\n",
       "      <td>True</td>\n",
       "      <td>coffee</td>\n",
       "      <td>10</td>\n",
       "      <td>0.0</td>\n",
       "      <td>False</td>\n",
       "      <td>6</td>\n",
       "      <td>2018</td>\n",
       "      <td>26</td>\n",
       "      <td>11</td>\n",
       "      <td>1980</td>\n",
       "      <td>6</td>\n",
       "    </tr>\n",
       "    <tr>\n",
       "      <th>3</th>\n",
       "      <td>acde7a45c3c8fbed</td>\n",
       "      <td>2018-05-03</td>\n",
       "      <td>Hoffman Estates</td>\n",
       "      <td>IL</td>\n",
       "      <td>1974-01-22</td>\n",
       "      <td>female</td>\n",
       "      <td>part-time</td>\n",
       "      <td>True</td>\n",
       "      <td>yes</td>\n",
       "      <td>False</td>\n",
       "      <td>coffee</td>\n",
       "      <td>1</td>\n",
       "      <td>2.0</td>\n",
       "      <td>False</td>\n",
       "      <td>5</td>\n",
       "      <td>2018</td>\n",
       "      <td>3</td>\n",
       "      <td>1</td>\n",
       "      <td>1974</td>\n",
       "      <td>22</td>\n",
       "    </tr>\n",
       "    <tr>\n",
       "      <th>4</th>\n",
       "      <td>e24da06a896d1cc6</td>\n",
       "      <td>2019-08-05</td>\n",
       "      <td>St. Charles</td>\n",
       "      <td>IL</td>\n",
       "      <td>1988-01-31</td>\n",
       "      <td>female</td>\n",
       "      <td>unempolyed</td>\n",
       "      <td>True</td>\n",
       "      <td>i don't know</td>\n",
       "      <td>False</td>\n",
       "      <td>coffee</td>\n",
       "      <td>10</td>\n",
       "      <td>3.0</td>\n",
       "      <td>False</td>\n",
       "      <td>8</td>\n",
       "      <td>2019</td>\n",
       "      <td>5</td>\n",
       "      <td>1</td>\n",
       "      <td>1988</td>\n",
       "      <td>31</td>\n",
       "    </tr>\n",
       "  </tbody>\n",
       "</table>\n",
       "</div>"
      ],
      "text/plain": [
       "                 id date_contacted             city state        dob  gender  \\\n",
       "0  1f3616520cc567f6     2019-09-16          Chicago    IL 1984-07-04    male   \n",
       "1  bba909acb4ee09ad     2018-07-13          Wheaton    IL 1983-09-26  female   \n",
       "2  41bbc4397911869c     2018-06-26       Glen Ellyn    IL 1980-11-06    male   \n",
       "3  acde7a45c3c8fbed     2018-05-03  Hoffman Estates    IL 1974-01-22  female   \n",
       "4  e24da06a896d1cc6     2019-08-05      St. Charles    IL 1988-01-31  female   \n",
       "\n",
       "   employment  owns_car owns_coffee_machine  owns_home beverage_preference  \\\n",
       "0   full-time     False                  no      False                beer   \n",
       "1     retired      True                 yes      False                wine   \n",
       "2   full-time      True                  no       True              coffee   \n",
       "3   part-time      True                 yes      False              coffee   \n",
       "4  unempolyed      True        i don't know      False              coffee   \n",
       "\n",
       "   number_of_bags_purchased_competitor  competitor_satisfaction  \\\n",
       "0                                    0                      NaN   \n",
       "1                                   12                      4.5   \n",
       "2                                   10                      0.0   \n",
       "3                                    1                      2.0   \n",
       "4                                   10                      3.0   \n",
       "\n",
       "   bought_coffee  month  year  date  month_dob  year_dob  date_dob  \n",
       "0          False      9  2019    16          7      1984         4  \n",
       "1          False      7  2018    13          9      1983        26  \n",
       "2          False      6  2018    26         11      1980         6  \n",
       "3          False      5  2018     3          1      1974        22  \n",
       "4          False      8  2019     5          1      1988        31  "
      ]
     },
     "execution_count": 42,
     "metadata": {},
     "output_type": "execute_result"
    }
   ],
   "source": [
    "df.head()"
   ]
  },
  {
   "cell_type": "code",
   "execution_count": 43,
   "id": "e8bc4317",
   "metadata": {},
   "outputs": [
    {
     "data": {
      "text/plain": [
       "(28657, 20)"
      ]
     },
     "execution_count": 43,
     "metadata": {},
     "output_type": "execute_result"
    }
   ],
   "source": [
    "df.shape"
   ]
  },
  {
   "cell_type": "markdown",
   "id": "9cbb3994",
   "metadata": {},
   "source": [
    "# Visualization data"
   ]
  },
  {
   "cell_type": "code",
   "execution_count": 44,
   "id": "8b7ce85c",
   "metadata": {},
   "outputs": [
    {
     "data": {
      "image/png": "[encoded data removed]",
      "text/plain": [
       "<Figure size 1080x720 with 1 Axes>"
      ]
     },
     "metadata": {},
     "output_type": "display_data"
    }
   ],
   "source": [
    "#create pie chart\n",
    "fig = plt.figure(figsize=(15,10))\n",
    "colors = ['#74BBFB', '#00008B']\n",
    "plt.pie(df['bought_coffee'].value_counts().values, colors = colors, autopct='%.0f%%', textprops={'color':\"w\"})\n",
    "plt.legend(['bought', 'not bought'])\n",
    "plt.title('percent whether or not bought coffee at the shop', fontsize = 20, fontweight=\"bold\", fontname = 'Times New Roman')\n",
    "plt.show()"
   ]
  },
  {
   "cell_type": "code",
   "execution_count": 45,
   "id": "214423f2",
   "metadata": {},
   "outputs": [
    {
     "data": {
      "image/png": "[encoded data removed]",
      "text/plain": [
       "<Figure size 576x360 with 1 Axes>"
      ]
     },
     "metadata": {},
     "output_type": "display_data"
    }
   ],
   "source": [
    "# thực hiện trực quan hóa dữ liệu giới tính\n",
    "fig = plt.figure(figsize=(8,5))\n",
    "labels = df['bought_coffee'].value_counts()\n",
    "sizes = [300, 200]\n",
    "# labels_vegefruit = df.groupby(['gender', 'bought_coffee'])['bought_coffee'].count().values\n",
    "# sizes_vegefruit = \n",
    "colors = ['#FFB600', '#09A0DA']\n",
    "colors_vegefruit = ['#FFCE53', '#FFDA7E' \n",
    "                    ,'#7FD6F7', '#06204F']\n",
    "\n",
    "bigger = plt.pie(labels.values, labels = ['96.8%', '3.2%'],colors=colors,startangle=90, labeldistance=0.8)\n",
    "smaller = plt.pie(df.groupby(['gender', 'bought_coffee'])['bought_coffee'].count(),autopct = '%1.1f%%',\n",
    "                  colors=colors_vegefruit, radius=0.7,\n",
    "                  startangle=90)\n",
    "plt.legend(['not bought', 'bought', 'female not buoght', 'female bought', 'male not bought', 'male bought'], loc=\"right\")\n",
    "centre_circle = plt.Circle((0, 0), 0.3, color='white', linewidth=0)\n",
    "fig = plt.gcf()\n",
    "fig.gca().add_artist(centre_circle)\n",
    "\n",
    "\n",
    "plt.title('Percent gender whether or not buy cofee at the store', fontsize = 24)\n",
    "\n",
    "plt.axis('equal')\n",
    "plt.tight_layout()\n",
    "\n",
    "\n",
    "plt.savefig('pieChartPercentGenderWhetherOrNotBuyCoffeeAtTheStore1')"
   ]
  },
  {
   "cell_type": "markdown",
   "id": "eeb8a940",
   "metadata": {},
   "source": [
    "- có khoản <b>97%</b> khách hàng không mua hàng và khoảng 3% khách hàng mua hàng\n",
    "- Tỉ lệ mua coffee là rất thấp ở cả hai giới tính"
   ]
  },
  {
   "cell_type": "code",
   "execution_count": 46,
   "id": "f44506bc",
   "metadata": {},
   "outputs": [],
   "source": [
    "# các thành phố mua coffee và các thành phố có ít người mua coffee\n",
    "city = df.groupby('city')['bought_coffee'].count()\n",
    "cityBuy = df.loc[df['bought_coffee'] == True, ['city', 'bought_coffee']].groupby('city')['bought_coffee'].count()\n",
    "cityNotBuy = df.loc[df['bought_coffee'] == False, ['city', 'bought_coffee']].groupby('city')['bought_coffee'].count()\n",
    "\n",
    "listPercentCityBuy = []\n",
    "for i in city.index:\n",
    "  result = 0\n",
    "  result = cityBuy[i]*100/city[i]\n",
    "  listPercentCityBuy.append(result)\n",
    "\n",
    "listPercentCityNotBuy = []\n",
    "for i in listPercentCityBuy:\n",
    "  result = 0\n",
    "  result = 100 - i\n",
    "  listPercentCityNotBuy.append(result)"
   ]
  },
  {
   "cell_type": "code",
   "execution_count": 47,
   "id": "c4179c26",
   "metadata": {
    "scrolled": true
   },
   "outputs": [
    {
     "data": {
      "image/png": "[encoded data removed]",
      "text/plain": [
       "<Figure size 1440x720 with 1 Axes>"
      ]
     },
     "metadata": {},
     "output_type": "display_data"
    }
   ],
   "source": [
    "# liệu thành phố có ảnh hướng đến khả năng mua coffee hay không\n",
    "fig = plt.figure(figsize=(20,10))\n",
    "plt.plot(city.index, city.values*100/df.shape[0], marker='o',color='r')\n",
    "#plt.bar(cityNotBuy.index, listPercentCityNotBuy)\n",
    "plt.bar(cityBuy.index, listPercentCityBuy)\n",
    "\n",
    "plt.legend(['percent of customers in the cities','percent of customers buy coffee at the cities'])\n",
    "plt.title('Customers buy coffee in cities', fontsize = 18)\n",
    "plt.xlabel('name city')\n",
    "plt.ylabel('percent')\n",
    "plt.xticks(rotation = 90)\n",
    "plt.savefig('barchartConsumerBuyCoffee.png')"
   ]
  },
  {
   "cell_type": "code",
   "execution_count": 48,
   "id": "f6904315",
   "metadata": {},
   "outputs": [
    {
     "name": "stdout",
     "output_type": "stream",
     "text": [
      "Hoffman Estates ||||| 8.950914340712224\n",
      "Naperville ||||| 6.262230919765166\n",
      "Streamwood ||||| 6.94980694980695\n"
     ]
    }
   ],
   "source": [
    "\n",
    "for x in range(len(listPercentCityBuy)):\n",
    "    k = 0\n",
    "    k = listPercentCityBuy[x]\n",
    "    if k > 6:\n",
    "        print(cityBuy.index[x],'|||||', k)\n"
   ]
  },
  {
   "cell_type": "code",
   "execution_count": null,
   "id": "173bd19d",
   "metadata": {},
   "outputs": [],
   "source": []
  },
  {
   "cell_type": "markdown",
   "id": "24701c41",
   "metadata": {},
   "source": [
    "- Phân bố lượng khách hàng ở các thành phố đồng đều với nhau.\n",
    "- nhưng phần lớn lượng khách hàng mua coffee tại cửa hàng là Hoffman Estates, Naperville, Streamwood."
   ]
  },
  {
   "cell_type": "code",
   "execution_count": 49,
   "id": "0249fbe3",
   "metadata": {},
   "outputs": [],
   "source": [
    "def convertYear(string):\n",
    "  if string == 2020:\n",
    "    string = 1920\n",
    "    return string\n",
    "  elif string > 2015:\n",
    "    string = str(string)\n",
    "    string = string.replace('20', '19')\n",
    "    string = int(string)\n",
    "    return string\n",
    "  return string"
   ]
  },
  {
   "cell_type": "code",
   "execution_count": 50,
   "id": "08cea9f6",
   "metadata": {},
   "outputs": [],
   "source": [
    "df['year_dob'] = df['year_dob'].apply(lambda string: convertYear(string))"
   ]
  },
  {
   "cell_type": "code",
   "execution_count": 51,
   "id": "c686a801",
   "metadata": {},
   "outputs": [],
   "source": [
    "val = df['year_dob'].value_counts()"
   ]
  },
  {
   "cell_type": "code",
   "execution_count": 52,
   "id": "f3efda55",
   "metadata": {},
   "outputs": [],
   "source": [
    "idx = df.loc[(df['employment'] == 'student')&(df['year_dob'] < 1980), :].index\n",
    "df.drop(index = idx, inplace= True)"
   ]
  },
  {
   "cell_type": "code",
   "execution_count": 53,
   "id": "919027c3",
   "metadata": {},
   "outputs": [],
   "source": [
    "val = val.reset_index()\n",
    "val.sort_values(\"index\", axis = 0, ascending = True,\n",
    "                  inplace = True)"
   ]
  },
  {
   "cell_type": "code",
   "execution_count": 54,
   "id": "792cee7f",
   "metadata": {},
   "outputs": [
    {
     "data": {
      "image/png": "[encoded data removed]",
      "text/plain": [
       "<Figure size 1080x576 with 1 Axes>"
      ]
     },
     "metadata": {},
     "output_type": "display_data"
    }
   ],
   "source": [
    "# năm sinh của khách hàng tiềm năng\n",
    "fig = plt.figure(figsize=(15,8))\n",
    "\n",
    "plt.plot(val['index'], val['year_dob'])\n",
    "plt.title('consumers by year born')\n",
    "#add horizontal line at mean value of y\n",
    "plt.axhline(y=np.nanmean(val['year_dob']), color='red', linestyle='--', linewidth=3, label='Avg')\n",
    "\n",
    "plt.xlabel('year born')\n",
    "plt.ylabel('quantity')\n",
    "plt.legend()\n",
    "plt.savefig('consumersBuyYearBorn.png')"
   ]
  },
  {
   "cell_type": "markdown",
   "id": "a6dd08cd",
   "metadata": {},
   "source": [
    "- trung bình số lượng theo từng độ tuổi sẽ là khoảng 650 khách hàng.\n",
    "- Lượng khách hàng thường tập trung vào năm sinh 1977 đến 1995. "
   ]
  },
  {
   "cell_type": "code",
   "execution_count": 55,
   "id": "a5b0d487",
   "metadata": {},
   "outputs": [],
   "source": [
    "# xem thử employmen theo khả năng mua hàng\n",
    "dataEmployment = df[['employment', 'bought_coffee']]\n",
    "t = dataEmployment.loc[df['bought_coffee'] == True, :].groupby('employment')['bought_coffee'].count()"
   ]
  },
  {
   "cell_type": "code",
   "execution_count": 56,
   "id": "dd1be1f9",
   "metadata": {},
   "outputs": [
    {
     "data": {
      "image/png": "[encoded data removed]",
      "text/plain": [
       "<Figure size 1440x720 with 1 Axes>"
      ]
     },
     "metadata": {},
     "output_type": "display_data"
    }
   ],
   "source": [
    "# hình thức làm việc của khách hàng mua hàng\n",
    "fig = plt.figure(figsize=(20,10))\n",
    "# define Seaborn color palette to use\n",
    "palette_color = ['#00008B', '#1F75FE', '#74BBFB', '#3D3D3D', '#C1C1C1']\n",
    "  \n",
    "# plotting data on chart\n",
    "plt.pie(t.values, colors=palette_color, autopct='%.0f%%', textprops={'color':\"w\"})\n",
    "plt.legend(t.index, loc = 'right')\n",
    "plt.title('percent employment bought coffee at the shop', fontsize = 20)\n",
    "# displaying chart\n",
    "\n",
    "plt.savefig('percentEmploymentBougtCoffeeAtTheShop.png')"
   ]
  },
  {
   "cell_type": "markdown",
   "id": "7d31e067",
   "metadata": {},
   "source": [
    "- Phần lớn lượng khách hàng tập trung mua là sinh viên"
   ]
  },
  {
   "cell_type": "code",
   "execution_count": 57,
   "id": "b388c7ba",
   "metadata": {},
   "outputs": [],
   "source": [
    "vaxl = df.loc[df['employment'] == 'student', ['employment', 'year_dob']]['year_dob'].value_counts()"
   ]
  },
  {
   "cell_type": "code",
   "execution_count": 58,
   "id": "51e4c522",
   "metadata": {},
   "outputs": [
    {
     "data": {
      "text/plain": [
       "1987    333\n",
       "1994    314\n",
       "1988    305\n",
       "1993    298\n",
       "1989    288\n",
       "1990    271\n",
       "1991    267\n",
       "1986    263\n",
       "1985    263\n",
       "1992    246\n",
       "1995    222\n",
       "1984    215\n",
       "1996    159\n",
       "1997    108\n",
       "1983    104\n",
       "1981     78\n",
       "1998     67\n",
       "1980     55\n",
       "1982     54\n",
       "1999     42\n",
       "2000     24\n",
       "2001     13\n",
       "Name: year_dob, dtype: int64"
      ]
     },
     "execution_count": 58,
     "metadata": {},
     "output_type": "execute_result"
    }
   ],
   "source": [
    "vaxl"
   ]
  },
  {
   "cell_type": "code",
   "execution_count": 59,
   "id": "cc19ade7",
   "metadata": {},
   "outputs": [],
   "source": [
    "vaxl = vaxl.reset_index()"
   ]
  },
  {
   "cell_type": "code",
   "execution_count": 60,
   "id": "c3687b68",
   "metadata": {},
   "outputs": [],
   "source": [
    "\n",
    "vaxl.sort_values(\"index\", axis = 0, ascending = True,\n",
    "                  inplace = True)"
   ]
  },
  {
   "cell_type": "code",
   "execution_count": 61,
   "id": "302f8996",
   "metadata": {},
   "outputs": [
    {
     "data": {
      "image/png": "[encoded data removed]",
      "text/plain": [
       "<Figure size 1080x576 with 1 Axes>"
      ]
     },
     "metadata": {},
     "output_type": "display_data"
    }
   ],
   "source": [
    "# năm sinh của khách hàng tiềm  hình thức student\n",
    "fig = plt.figure(figsize=(15,8))\n",
    "plt.plot(vaxl['index'], vaxl['year_dob'])\n",
    "#add horizontal line at mean value of y\n",
    "plt.axhline(y=np.nanmean(vaxl['year_dob']), color='red', linestyle='--', linewidth=3, label='Avg')\n",
    "plt.title('consumers student by year born')\n",
    "plt.xlabel('year born')\n",
    "plt.ylabel('quantity')\n",
    "\n",
    "plt.savefig('consumerStudentByYearBorn.png')"
   ]
  },
  {
   "cell_type": "markdown",
   "id": "3c5bb732",
   "metadata": {},
   "source": [
    "- phần lớn lượng khách hàng student tập trung vào 1984 đến 1997"
   ]
  },
  {
   "cell_type": "code",
   "execution_count": 62,
   "id": "f622c27f",
   "metadata": {},
   "outputs": [
    {
     "data": {
      "text/plain": [
       "array([1990, 1994, 1985, 1982, 1992, 2000, 1995, 1983, 1989, 1991, 1988,\n",
       "       1993, 1984, 1996, 1981, 1986, 1980, 1987, 1997, 1998, 1999],\n",
       "      dtype=int64)"
      ]
     },
     "execution_count": 62,
     "metadata": {},
     "output_type": "execute_result"
    }
   ],
   "source": [
    "df.loc[(df['employment'] == 'student') & (df['bought_coffee'] == True), ['employment', 'year_dob']]['year_dob'].unique()"
   ]
  },
  {
   "cell_type": "code",
   "execution_count": 63,
   "id": "977a039a",
   "metadata": {},
   "outputs": [],
   "source": [
    "x = df.groupby('employment')['year_dob'].count()"
   ]
  },
  {
   "cell_type": "code",
   "execution_count": 64,
   "id": "39d7b55f",
   "metadata": {},
   "outputs": [
    {
     "data": {
      "image/png": "[encoded data removed]",
      "text/plain": [
       "<Figure size 1440x720 with 1 Axes>"
      ]
     },
     "metadata": {},
     "output_type": "display_data"
    }
   ],
   "source": [
    "# hình thức làm việc của khách hàng mua hàng\n",
    "fig = plt.figure(figsize=(20,10))\n",
    "# define Seaborn color palette to use\n",
    "palette_color = ['#00008B', '#1F75FE', '#74BBFB', '#3D3D3D', '#C1C1C1']\n",
    "  \n",
    "# plotting data on chart\n",
    "plt.pie(x.values, colors=palette_color, autopct='%.0f%%', textprops={'color':\"w\"})\n",
    "plt.legend(t.index, loc = 'right')\n",
    "plt.title('percent employment at the shop', fontsize = 20)\n",
    "\n",
    "plt.savefig('percentEmploymentAttheShop.png')"
   ]
  },
  {
   "cell_type": "code",
   "execution_count": 65,
   "id": "467548aa",
   "metadata": {},
   "outputs": [
    {
     "data": {
      "text/plain": [
       "Index(['id', 'date_contacted', 'city', 'state', 'dob', 'gender', 'employment',\n",
       "       'owns_car', 'owns_coffee_machine', 'owns_home', 'beverage_preference',\n",
       "       'number_of_bags_purchased_competitor', 'competitor_satisfaction',\n",
       "       'bought_coffee', 'month', 'year', 'date', 'month_dob', 'year_dob',\n",
       "       'date_dob'],\n",
       "      dtype='object')"
      ]
     },
     "execution_count": 65,
     "metadata": {},
     "output_type": "execute_result"
    }
   ],
   "source": [
    "df.columns"
   ]
  },
  {
   "cell_type": "code",
   "execution_count": 66,
   "id": "54c51190",
   "metadata": {},
   "outputs": [],
   "source": [
    "data = df[['city', 'state', 'gender', 'employment', 'owns_coffee_machine', 'owns_car', 'month', 'year', 'year_dob', 'beverage_preference', 'bought_coffee']]"
   ]
  },
  {
   "cell_type": "code",
   "execution_count": 67,
   "id": "ea6dbb63",
   "metadata": {},
   "outputs": [
    {
     "data": {
      "text/html": [
       "<div>\n",
       "<style scoped>\n",
       "    .dataframe tbody tr th:only-of-type {\n",
       "        vertical-align: middle;\n",
       "    }\n",
       "\n",
       "    .dataframe tbody tr th {\n",
       "        vertical-align: top;\n",
       "    }\n",
       "\n",
       "    .dataframe thead th {\n",
       "        text-align: right;\n",
       "    }\n",
       "</style>\n",
       "<table border=\"1\" class=\"dataframe\">\n",
       "  <thead>\n",
       "    <tr style=\"text-align: right;\">\n",
       "      <th></th>\n",
       "      <th>city</th>\n",
       "      <th>state</th>\n",
       "      <th>gender</th>\n",
       "      <th>employment</th>\n",
       "      <th>owns_coffee_machine</th>\n",
       "      <th>owns_car</th>\n",
       "      <th>month</th>\n",
       "      <th>year</th>\n",
       "      <th>year_dob</th>\n",
       "      <th>beverage_preference</th>\n",
       "      <th>bought_coffee</th>\n",
       "    </tr>\n",
       "  </thead>\n",
       "  <tbody>\n",
       "    <tr>\n",
       "      <th>0</th>\n",
       "      <td>Chicago</td>\n",
       "      <td>IL</td>\n",
       "      <td>male</td>\n",
       "      <td>full-time</td>\n",
       "      <td>no</td>\n",
       "      <td>False</td>\n",
       "      <td>9</td>\n",
       "      <td>2019</td>\n",
       "      <td>1984</td>\n",
       "      <td>beer</td>\n",
       "      <td>False</td>\n",
       "    </tr>\n",
       "    <tr>\n",
       "      <th>1</th>\n",
       "      <td>Wheaton</td>\n",
       "      <td>IL</td>\n",
       "      <td>female</td>\n",
       "      <td>retired</td>\n",
       "      <td>yes</td>\n",
       "      <td>True</td>\n",
       "      <td>7</td>\n",
       "      <td>2018</td>\n",
       "      <td>1983</td>\n",
       "      <td>wine</td>\n",
       "      <td>False</td>\n",
       "    </tr>\n",
       "    <tr>\n",
       "      <th>2</th>\n",
       "      <td>Glen Ellyn</td>\n",
       "      <td>IL</td>\n",
       "      <td>male</td>\n",
       "      <td>full-time</td>\n",
       "      <td>no</td>\n",
       "      <td>True</td>\n",
       "      <td>6</td>\n",
       "      <td>2018</td>\n",
       "      <td>1980</td>\n",
       "      <td>coffee</td>\n",
       "      <td>False</td>\n",
       "    </tr>\n",
       "    <tr>\n",
       "      <th>3</th>\n",
       "      <td>Hoffman Estates</td>\n",
       "      <td>IL</td>\n",
       "      <td>female</td>\n",
       "      <td>part-time</td>\n",
       "      <td>yes</td>\n",
       "      <td>True</td>\n",
       "      <td>5</td>\n",
       "      <td>2018</td>\n",
       "      <td>1974</td>\n",
       "      <td>coffee</td>\n",
       "      <td>False</td>\n",
       "    </tr>\n",
       "    <tr>\n",
       "      <th>4</th>\n",
       "      <td>St. Charles</td>\n",
       "      <td>IL</td>\n",
       "      <td>female</td>\n",
       "      <td>unempolyed</td>\n",
       "      <td>i don't know</td>\n",
       "      <td>True</td>\n",
       "      <td>8</td>\n",
       "      <td>2019</td>\n",
       "      <td>1988</td>\n",
       "      <td>coffee</td>\n",
       "      <td>False</td>\n",
       "    </tr>\n",
       "  </tbody>\n",
       "</table>\n",
       "</div>"
      ],
      "text/plain": [
       "              city state  gender  employment owns_coffee_machine  owns_car  \\\n",
       "0          Chicago    IL    male   full-time                  no     False   \n",
       "1          Wheaton    IL  female     retired                 yes      True   \n",
       "2       Glen Ellyn    IL    male   full-time                  no      True   \n",
       "3  Hoffman Estates    IL  female   part-time                 yes      True   \n",
       "4      St. Charles    IL  female  unempolyed        i don't know      True   \n",
       "\n",
       "   month  year  year_dob beverage_preference  bought_coffee  \n",
       "0      9  2019      1984                beer          False  \n",
       "1      7  2018      1983                wine          False  \n",
       "2      6  2018      1980              coffee          False  \n",
       "3      5  2018      1974              coffee          False  \n",
       "4      8  2019      1988              coffee          False  "
      ]
     },
     "execution_count": 67,
     "metadata": {},
     "output_type": "execute_result"
    }
   ],
   "source": [
    "data.head()"
   ]
  },
  {
   "cell_type": "code",
   "execution_count": 68,
   "id": "35cc97f7",
   "metadata": {},
   "outputs": [
    {
     "data": {
      "text/plain": [
       "owns_car  bought_coffee\n",
       "False     False             3474\n",
       "          True                18\n",
       "True      False            23820\n",
       "          True               891\n",
       "Name: bought_coffee, dtype: int64"
      ]
     },
     "execution_count": 68,
     "metadata": {},
     "output_type": "execute_result"
    }
   ],
   "source": [
    "data.groupby(['owns_car', 'bought_coffee'])['bought_coffee'].count()"
   ]
  },
  {
   "cell_type": "code",
   "execution_count": 69,
   "id": "ff81ea6a",
   "metadata": {},
   "outputs": [],
   "source": [
    "TrueData = data.loc[data['owns_car'] == True, ['owns_car', 'bought_coffee']].groupby([ 'bought_coffee'])['bought_coffee'].count()"
   ]
  },
  {
   "cell_type": "code",
   "execution_count": 70,
   "id": "6f83abd9",
   "metadata": {},
   "outputs": [],
   "source": [
    "falseData = data.loc[data['owns_car'] == False, ['owns_car', 'bought_coffee']].groupby(['bought_coffee'])['bought_coffee'].count()"
   ]
  },
  {
   "cell_type": "code",
   "execution_count": 71,
   "id": "182654da",
   "metadata": {},
   "outputs": [
    {
     "data": {
      "text/plain": [
       "<BarContainer object of 2 artists>"
      ]
     },
     "execution_count": 71,
     "metadata": {},
     "output_type": "execute_result"
    },
    {
     "data": {
      "image/png": "[encoded data removed]",
      "text/plain": [
       "<Figure size 1080x576 with 1 Axes>"
      ]
     },
     "metadata": {},
     "output_type": "display_data"
    }
   ],
   "source": [
    "fig = plt.figure(figsize=(15,8))\n",
    "plt.bar(TrueData.index, TrueData.values)\n",
    "plt.bar(falseData.index, falseData.values)"
   ]
  },
  {
   "cell_type": "code",
   "execution_count": 72,
   "id": "7540e8fd",
   "metadata": {},
   "outputs": [
    {
     "data": {
      "text/plain": [
       "Index([False, True], dtype='object', name='bought_coffee')"
      ]
     },
     "execution_count": 72,
     "metadata": {},
     "output_type": "execute_result"
    }
   ],
   "source": [
    "TrueData.index"
   ]
  },
  {
   "cell_type": "code",
   "execution_count": 73,
   "id": "8e1391ea",
   "metadata": {},
   "outputs": [
    {
     "data": {
      "text/plain": [
       "<BarContainer object of 2 artists>"
      ]
     },
     "execution_count": 73,
     "metadata": {},
     "output_type": "execute_result"
    },
    {
     "data": {
      "image/png": "[encoded data removed]",
      "text/plain": [
       "<Figure size 432x288 with 1 Axes>"
      ]
     },
     "metadata": {},
     "output_type": "display_data"
    }
   ],
   "source": [
    "plt.bar(falseData.index, falseData.values)"
   ]
  },
  {
   "cell_type": "code",
   "execution_count": 74,
   "id": "29cc057d",
   "metadata": {},
   "outputs": [],
   "source": [
    "def ax(name):\n",
    "    x = data[name].count()\n",
    "    plt.bar(list(data[name].value_counts().index), data[name].value_counts().values*100/x)"
   ]
  },
  {
   "cell_type": "code",
   "execution_count": 75,
   "id": "3c4f6c6b",
   "metadata": {},
   "outputs": [
    {
     "data": {
      "image/png": "[encoded data removed]",
      "text/plain": [
       "<Figure size 432x288 with 1 Axes>"
      ]
     },
     "metadata": {},
     "output_type": "display_data"
    }
   ],
   "source": [
    "ax('owns_car')"
   ]
  },
  {
   "cell_type": "code",
   "execution_count": 76,
   "id": "51c9eb84",
   "metadata": {},
   "outputs": [
    {
     "data": {
      "text/plain": [
       "[True, False]"
      ]
     },
     "execution_count": 76,
     "metadata": {},
     "output_type": "execute_result"
    }
   ],
   "source": [
    "list(data['owns_car'].value_counts().index)"
   ]
  },
  {
   "cell_type": "code",
   "execution_count": 77,
   "id": "e8952a6f",
   "metadata": {},
   "outputs": [
    {
     "data": {
      "image/png": "[encoded data removed]",
      "text/plain": [
       "<Figure size 432x288 with 1 Axes>"
      ]
     },
     "metadata": {},
     "output_type": "display_data"
    }
   ],
   "source": [
    "ax('owns_coffee_machine')"
   ]
  },
  {
   "cell_type": "code",
   "execution_count": 78,
   "id": "5c7d99c6",
   "metadata": {},
   "outputs": [],
   "source": [
    "def ax2(name):\n",
    "    da = data.loc[data['owns_coffee_machine'] == name,'bought_coffee']\n",
    "    c = da.count()\n",
    "    val = da.value_counts()\n",
    "    plt.bar(val.index, val.values*100/c)"
   ]
  },
  {
   "cell_type": "code",
   "execution_count": 79,
   "id": "8371a91d",
   "metadata": {},
   "outputs": [],
   "source": [
    "da = data.loc[data['owns_coffee_machine'] == 'yes', ['bought_coffee']]"
   ]
  },
  {
   "cell_type": "code",
   "execution_count": 80,
   "id": "feb5e72d",
   "metadata": {},
   "outputs": [
    {
     "name": "stdout",
     "output_type": "stream",
     "text": [
      "[18373]\n"
     ]
    }
   ],
   "source": [
    "c = da.count()\n",
    "print(c.values)"
   ]
  },
  {
   "cell_type": "code",
   "execution_count": 81,
   "id": "ac345ee2",
   "metadata": {},
   "outputs": [
    {
     "data": {
      "text/plain": [
       "bought_coffee\n",
       "False            17784\n",
       "True               589\n",
       "dtype: int64"
      ]
     },
     "execution_count": 81,
     "metadata": {},
     "output_type": "execute_result"
    }
   ],
   "source": [
    "val = da.value_counts()\n",
    "val"
   ]
  },
  {
   "cell_type": "code",
   "execution_count": 82,
   "id": "c35dfc19",
   "metadata": {},
   "outputs": [
    {
     "data": {
      "image/png": "[encoded data removed]",
      "text/plain": [
       "<Figure size 432x288 with 1 Axes>"
      ]
     },
     "metadata": {},
     "output_type": "display_data"
    }
   ],
   "source": [
    "ax2('yes')"
   ]
  },
  {
   "cell_type": "code",
   "execution_count": 83,
   "id": "81d5efa2",
   "metadata": {},
   "outputs": [
    {
     "name": "stdout",
     "output_type": "stream",
     "text": [
      "<class 'pandas.core.frame.DataFrame'>\n",
      "Int64Index: 28203 entries, 0 to 28656\n",
      "Data columns (total 11 columns):\n",
      " #   Column               Non-Null Count  Dtype \n",
      "---  ------               --------------  ----- \n",
      " 0   city                 28203 non-null  object\n",
      " 1   state                28203 non-null  object\n",
      " 2   gender               28203 non-null  object\n",
      " 3   employment           28203 non-null  object\n",
      " 4   owns_coffee_machine  28203 non-null  object\n",
      " 5   owns_car             28203 non-null  bool  \n",
      " 6   month                28203 non-null  int64 \n",
      " 7   year                 28203 non-null  int64 \n",
      " 8   year_dob             28203 non-null  int64 \n",
      " 9   beverage_preference  28203 non-null  object\n",
      " 10  bought_coffee        28203 non-null  bool  \n",
      "dtypes: bool(2), int64(3), object(6)\n",
      "memory usage: 2.2+ MB\n"
     ]
    }
   ],
   "source": [
    "data.info()"
   ]
  },
  {
   "cell_type": "code",
   "execution_count": 84,
   "id": "418c0051",
   "metadata": {},
   "outputs": [],
   "source": [
    "data.to_csv('dataTableau.csv')"
   ]
  }
 ],
 "metadata": {
  "kernelspec": {
   "display_name": "Python 3",
   "language": "python",
   "name": "python3"
  },
  "language_info": {
   "codemirror_mode": {
    "name": "ipython",
    "version": 3
   },
   "file_extension": ".py",
   "mimetype": "text/x-python",
   "name": "python",
   "nbconvert_exporter": "python",
   "pygments_lexer": "ipython3",
   "version": "3.10.5"
  },
  "vscode": {
   "interpreter": {
    "hash": "26de051ba29f2982a8de78e945f0abaf191376122a1563185a90213a26c5da77"
   }
  }
 },
 "nbformat": 4,
 "nbformat_minor": 5
}
